{
  "cells": [
    {
      "cell_type": "markdown",
      "metadata": {
        "id": "V8-yl-s-WKMG"
      },
      "source": [
        "# EfficientDet Tutorial: inference, eval, and training \n",
        "\n",
        "\n",
        "\n",
        "<table align=\"left\"><td>\n",
        "  <a target=\"_blank\"  href=\"https://github.com/google/automl/blob/master/efficientdet/tutorial.ipynb\">\n",
        "    <img src=\"https://www.tensorflow.org/images/GitHub-Mark-32px.png\" />View source on github\n",
        "  </a>\n",
        "</td><td>\n",
        "  <a target=\"_blank\"  href=\"https://colab.sandbox.google.com/github/google/automl/blob/master/efficientdet/tutorial.ipynb\">\n",
        "    <img width=32px src=\"https://www.tensorflow.org/images/colab_logo_32px.png\" />Run in Google Colab</a>\n",
        "</td></table>"
      ]
    },
    {
      "cell_type": "markdown",
      "metadata": {
        "id": "muwOCNHaq85j"
      },
      "source": [
        "# 0. Install and view graph."
      ]
    },
    {
      "cell_type": "markdown",
      "metadata": {
        "id": "dggLVarNxxvC"
      },
      "source": [
        "## 0.1 Install package and download source code/image.\n",
        "\n"
      ]
    },
    {
      "cell_type": "code",
      "execution_count": 1,
      "metadata": {
        "id": "hGL97-GXjSUw"
      },
      "outputs": [],
      "source": [
        "%%capture\n",
        "#@title\n",
        "import os\n",
        "import sys\n",
        "import tensorflow.compat.v1 as tf\n",
        "\n",
        "# Download source code.\n",
        "if \"efficientdet\" not in os.getcwd():\n",
        "  !git clone --depth 1 https://github.com/google/automl\n",
        "  os.chdir('automl/efficientdet')\n",
        "  sys.path.append('.')\n",
        "  !pip install -r requirements.txt\n",
        "  !pip install -U 'git+https://github.com/cocodataset/cocoapi.git#subdirectory=PythonAPI'\n",
        "else:\n",
        "  !git pull"
      ]
    },
    {
      "cell_type": "code",
      "execution_count": 2,
      "metadata": {
        "colab": {
          "base_uri": "https://localhost:8080/",
          "height": 408
        },
        "id": "Tow-ic7H3d7i",
        "outputId": "cd7629ea-6dab-4302-8cf3-eb8a94d83f65"
      },
      "outputs": [
        {
          "name": "stdout",
          "output_type": "stream",
          "text": [
            "Use model in /home/iga/bachelor_thesis/colab/automl/efficientdet/efficientdet-d0\n"
          ]
        }
      ],
      "source": [
        "MODEL = 'efficientdet-d0'  #@param\n",
        "\n",
        "def download(m):\n",
        "  if m not in os.listdir():\n",
        "    !wget https://storage.googleapis.com/cloud-tpu-checkpoints/efficientdet/coco/{m}.tar.gz\n",
        "    !tar zxf {m}.tar.gz\n",
        "  ckpt_path = os.path.join(os.getcwd(), m)\n",
        "  return ckpt_path\n",
        "\n",
        "# Download checkpoint.\n",
        "ckpt_path = download(MODEL)\n",
        "print('Use model in {}'.format(ckpt_path))\n",
        "\n",
        "# Prepare image and visualization settings.\n",
        "# image_url =  'D:\\codingan_serius\\bachelor_thesis\\Tensorflow\\VisDrone2019-DET-train\\images\\'#@param\n",
        "# image_name = '0000010_05149_d_0000057.jpg.png' #@param\n",
        "#!wget {image_url} -O img.png\n",
        "import os\n",
        "#img_path = os.path.join(os.getcwd(), 'img.png')\n",
        "img_path=\"/home/iga/bachelor_thesis/Tensorflow/VisDrone2019-DET-train/images/0000068_03581_d_0000011.jpg\"\n",
        "\n",
        "min_score_thresh = 0.15  #@param changed from 0.35\n",
        "max_boxes_to_draw = 200  #@param\n",
        "line_thickness =   2#@param\n",
        "\n",
        "import PIL\n",
        "# Get the largest of height/width and round to 128.\n",
        "image_size = max(PIL.Image.open(img_path).size)"
      ]
    },
    {
      "cell_type": "markdown",
      "metadata": {
        "id": "GvdjcYpUVuQ5"
      },
      "source": [
        "## 0.2 View graph in TensorBoard"
      ]
    },
    {
      "cell_type": "code",
      "execution_count": 3,
      "metadata": {},
      "outputs": [],
      "source": [
        "# !tensorboard dev upload --logdir \\\n",
        "#     'd:/codingan_serius/bachelor_thesis'"
      ]
    },
    {
      "cell_type": "code",
      "execution_count": 4,
      "metadata": {
        "id": "U2oz3r1LUDzr"
      },
      "outputs": [
        {
          "data": {
            "text/html": [
              "\n",
              "      <iframe id=\"tensorboard-frame-4549caaffc163833\" width=\"100%\" height=\"800\" frameborder=\"0\">\n",
              "      </iframe>\n",
              "      <script>\n",
              "        (function() {\n",
              "          const frame = document.getElementById(\"tensorboard-frame-4549caaffc163833\");\n",
              "          const url = new URL(\"/\", window.location);\n",
              "          const port = 6006;\n",
              "          if (port) {\n",
              "            url.port = port;\n",
              "          }\n",
              "          frame.src = url;\n",
              "        })();\n",
              "      </script>\n",
              "    "
            ],
            "text/plain": [
              "<IPython.core.display.HTML object>"
            ]
          },
          "metadata": {},
          "output_type": "display_data"
        }
      ],
      "source": [
        "!python model_inspect.py --model_name={MODEL} --logdir=logs &> /dev/null\n",
        "%load_ext tensorboard\n",
        "%tensorboard --logdir logs"
      ]
    },
    {
      "cell_type": "markdown",
      "metadata": {
        "id": "vZk2dwOxrGhY"
      },
      "source": [
        "# 1. inference"
      ]
    },
    {
      "cell_type": "markdown",
      "metadata": {
        "id": "_VaF_j7jdVCK"
      },
      "source": [
        "## 1.1 Benchmark network latency\n",
        "There are two types of latency:\n",
        "network latency and end-to-end latency.\n",
        "\n",
        "*   network latency: from the first conv op to the network class and box prediction.\n",
        "*   end-to-end latency: from image preprocessing, network, to the final postprocessing to generate a annotated new image.\n"
      ]
    },
    {
      "cell_type": "code",
      "execution_count": 5,
      "metadata": {
        "id": "R_3gL01UbDLH"
      },
      "outputs": [
        {
          "name": "stdout",
          "output_type": "stream",
          "text": [
            "2022-05-30 02:51:46.827609: I tensorflow/stream_executor/cuda/cuda_gpu_executor.cc:939] successful NUMA node read from SysFS had negative value (-1), but there must be at least one NUMA node, so returning NUMA node zero\n",
            "2022-05-30 02:51:46.853795: I tensorflow/stream_executor/cuda/cuda_gpu_executor.cc:939] successful NUMA node read from SysFS had negative value (-1), but there must be at least one NUMA node, so returning NUMA node zero\n",
            "2022-05-30 02:51:46.853975: I tensorflow/stream_executor/cuda/cuda_gpu_executor.cc:939] successful NUMA node read from SysFS had negative value (-1), but there must be at least one NUMA node, so returning NUMA node zero\n",
            "2022-05-30 02:51:46.922048: I tensorflow/core/platform/cpu_feature_guard.cc:151] This TensorFlow binary is optimized with oneAPI Deep Neural Network Library (oneDNN) to use the following CPU instructions in performance-critical operations:  AVX2 FMA\n",
            "To enable them in other operations, rebuild TensorFlow with the appropriate compiler flags.\n",
            "2022-05-30 02:51:46.929643: I tensorflow/stream_executor/cuda/cuda_gpu_executor.cc:939] successful NUMA node read from SysFS had negative value (-1), but there must be at least one NUMA node, so returning NUMA node zero\n",
            "2022-05-30 02:51:46.929848: I tensorflow/stream_executor/cuda/cuda_gpu_executor.cc:939] successful NUMA node read from SysFS had negative value (-1), but there must be at least one NUMA node, so returning NUMA node zero\n",
            "2022-05-30 02:51:46.929971: I tensorflow/stream_executor/cuda/cuda_gpu_executor.cc:939] successful NUMA node read from SysFS had negative value (-1), but there must be at least one NUMA node, so returning NUMA node zero\n",
            "2022-05-30 02:51:51.193839: I tensorflow/stream_executor/cuda/cuda_gpu_executor.cc:939] successful NUMA node read from SysFS had negative value (-1), but there must be at least one NUMA node, so returning NUMA node zero\n",
            "2022-05-30 02:51:51.194007: I tensorflow/stream_executor/cuda/cuda_gpu_executor.cc:939] successful NUMA node read from SysFS had negative value (-1), but there must be at least one NUMA node, so returning NUMA node zero\n",
            "2022-05-30 02:51:51.194130: I tensorflow/stream_executor/cuda/cuda_gpu_executor.cc:939] successful NUMA node read from SysFS had negative value (-1), but there must be at least one NUMA node, so returning NUMA node zero\n",
            "2022-05-30 02:51:51.194242: I tensorflow/core/common_runtime/gpu/gpu_device.cc:1525] Created device /job:localhost/replica:0/task:0/device:GPU:0 with 4403 MB memory:  -> device: 0, name: NVIDIA GeForce GTX 1660 Ti with Max-Q Design, pci bus id: 0000:01:00.0, compute capability: 7.5\n",
            "WARNING:tensorflow:From /home/iga/bachelor_thesis/colab/automl/efficientdet/utils.py:601: The name tf.keras.layers.enable_v2_dtype_behavior is deprecated. Please use tf.compat.v1.keras.layers.enable_v2_dtype_behavior instead.\n",
            "\n",
            "W0530 02:51:51.441514 140183198078784 module_wrapper.py:153] From /home/iga/bachelor_thesis/colab/automl/efficientdet/utils.py:601: The name tf.keras.layers.enable_v2_dtype_behavior is deprecated. Please use tf.compat.v1.keras.layers.enable_v2_dtype_behavior instead.\n",
            "\n",
            "2022-05-30 02:51:51.441799: I tensorflow/stream_executor/cuda/cuda_gpu_executor.cc:939] successful NUMA node read from SysFS had negative value (-1), but there must be at least one NUMA node, so returning NUMA node zero\n",
            "WARNING:tensorflow:From model_inspect.py:391: convert_variables_to_constants (from tensorflow.python.framework.graph_util_impl) is deprecated and will be removed in a future version.\n",
            "Instructions for updating:\n",
            "Use `tf.compat.v1.graph_util.convert_variables_to_constants`\n",
            "W0530 02:51:59.446533 140183198078784 deprecation.py:341] From model_inspect.py:391: convert_variables_to_constants (from tensorflow.python.framework.graph_util_impl) is deprecated and will be removed in a future version.\n",
            "Instructions for updating:\n",
            "Use `tf.compat.v1.graph_util.convert_variables_to_constants`\n",
            "WARNING:tensorflow:From /home/iga/.local/lib/python3.8/site-packages/tensorflow/python/framework/convert_to_constants.py:929: extract_sub_graph (from tensorflow.python.framework.graph_util_impl) is deprecated and will be removed in a future version.\n",
            "Instructions for updating:\n",
            "Use `tf.compat.v1.graph_util.extract_sub_graph`\n",
            "W0530 02:51:59.446736 140183198078784 deprecation.py:341] From /home/iga/.local/lib/python3.8/site-packages/tensorflow/python/framework/convert_to_constants.py:929: extract_sub_graph (from tensorflow.python.framework.graph_util_impl) is deprecated and will be removed in a future version.\n",
            "Instructions for updating:\n",
            "Use `tf.compat.v1.graph_util.extract_sub_graph`\n",
            "2022-05-30 02:52:00.131374: I tensorflow/stream_executor/cuda/cuda_gpu_executor.cc:939] successful NUMA node read from SysFS had negative value (-1), but there must be at least one NUMA node, so returning NUMA node zero\n",
            "2022-05-30 02:52:00.131969: I tensorflow/stream_executor/cuda/cuda_gpu_executor.cc:939] successful NUMA node read from SysFS had negative value (-1), but there must be at least one NUMA node, so returning NUMA node zero\n",
            "2022-05-30 02:52:00.132945: I tensorflow/stream_executor/cuda/cuda_gpu_executor.cc:939] successful NUMA node read from SysFS had negative value (-1), but there must be at least one NUMA node, so returning NUMA node zero\n",
            "2022-05-30 02:52:00.133186: I tensorflow/stream_executor/cuda/cuda_gpu_executor.cc:939] successful NUMA node read from SysFS had negative value (-1), but there must be at least one NUMA node, so returning NUMA node zero\n",
            "2022-05-30 02:52:00.133336: I tensorflow/stream_executor/cuda/cuda_gpu_executor.cc:939] successful NUMA node read from SysFS had negative value (-1), but there must be at least one NUMA node, so returning NUMA node zero\n",
            "2022-05-30 02:52:00.133448: I tensorflow/core/common_runtime/gpu/gpu_device.cc:1525] Created device /job:localhost/replica:0/task:0/device:GPU:0 with 4403 MB memory:  -> device: 0, name: NVIDIA GeForce GTX 1660 Ti with Max-Q Design, pci bus id: 0000:01:00.0, compute capability: 7.5\n",
            "2022-05-30 02:52:07.949823: I tensorflow/stream_executor/cuda/cuda_dnn.cc:366] Loaded cuDNN version 8300\n",
            "2022-05-30 02:52:15.402420: W tensorflow/stream_executor/gpu/asm_compiler.cc:111] *** WARNING *** You are using ptxas 10.1.243, which is older than 11.1. ptxas before 11.1 is known to miscompile XLA code, leading to incorrect results or invalid-address errors.\n",
            "\n",
            "You may not need to update to CUDA 11.1; cherry-picking the ptxas binary is often sufficient.\n",
            "Start benchmark runs total=10\n",
            "Per batch inference time:  0.02221646039999996\n",
            "FPS:  45.01167071600667\n"
          ]
        }
      ],
      "source": [
        "# benchmaak network latency\n",
        "!python3 model_inspect.py --runmode=bm --model_name=efficientdet-d0 --hparams=\"mixed_precision=true\"\n",
        "\n",
        "# With colab + Tesla T4 GPU, here are the batch size 1 latency summary:\n",
        "# D0 (AP=33.5):  14.9ms,  FPS = 67.2   (batch size 8 FPS=)\n",
        "# D1 (AP=39.6):  22.7ms,  FPS = 44.1   (batch size 8 FPS=)\n",
        "# D2 (AP=43.0):  27.9ms,  FPS = 35.8   (batch size 8 FPS=)\n",
        "# D3 (AP=45.8):  48.1ms,  FPS = 20.8   (batch size 8 FPS=)\n",
        "# D4 (AP=49.4):  81.9ms,  FPS = 12.2   (batch size 8 FPS=)"
      ]
    },
    {
      "cell_type": "markdown",
      "metadata": {
        "id": "VW95IodKovEu"
      },
      "source": [
        "## 1.2 Benchmark end-to-end latency"
      ]
    },
    {
      "cell_type": "code",
      "execution_count": 6,
      "metadata": {
        "colab": {
          "base_uri": "https://localhost:8080/",
          "height": 1000
        },
        "id": "NSf6SrZcdavN",
        "outputId": "cd5925ff-1b96-4561-dbb1-03334ded45e7"
      },
      "outputs": [
        {
          "name": "stdout",
          "output_type": "stream",
          "text": [
            "2022-05-30 02:52:23.063256: I tensorflow/stream_executor/cuda/cuda_gpu_executor.cc:939] successful NUMA node read from SysFS had negative value (-1), but there must be at least one NUMA node, so returning NUMA node zero\n",
            "2022-05-30 02:52:23.089400: I tensorflow/stream_executor/cuda/cuda_gpu_executor.cc:939] successful NUMA node read from SysFS had negative value (-1), but there must be at least one NUMA node, so returning NUMA node zero\n",
            "2022-05-30 02:52:23.089565: I tensorflow/stream_executor/cuda/cuda_gpu_executor.cc:939] successful NUMA node read from SysFS had negative value (-1), but there must be at least one NUMA node, so returning NUMA node zero\n",
            "2022-05-30 02:52:23.090751: I tensorflow/core/platform/cpu_feature_guard.cc:151] This TensorFlow binary is optimized with oneAPI Deep Neural Network Library (oneDNN) to use the following CPU instructions in performance-critical operations:  AVX2 FMA\n",
            "To enable them in other operations, rebuild TensorFlow with the appropriate compiler flags.\n",
            "2022-05-30 02:52:23.091876: I tensorflow/stream_executor/cuda/cuda_gpu_executor.cc:939] successful NUMA node read from SysFS had negative value (-1), but there must be at least one NUMA node, so returning NUMA node zero\n",
            "2022-05-30 02:52:23.092112: I tensorflow/stream_executor/cuda/cuda_gpu_executor.cc:939] successful NUMA node read from SysFS had negative value (-1), but there must be at least one NUMA node, so returning NUMA node zero\n",
            "2022-05-30 02:52:23.092258: I tensorflow/stream_executor/cuda/cuda_gpu_executor.cc:939] successful NUMA node read from SysFS had negative value (-1), but there must be at least one NUMA node, so returning NUMA node zero\n",
            "2022-05-30 02:52:23.496380: I tensorflow/stream_executor/cuda/cuda_gpu_executor.cc:939] successful NUMA node read from SysFS had negative value (-1), but there must be at least one NUMA node, so returning NUMA node zero\n",
            "2022-05-30 02:52:23.496551: I tensorflow/stream_executor/cuda/cuda_gpu_executor.cc:939] successful NUMA node read from SysFS had negative value (-1), but there must be at least one NUMA node, so returning NUMA node zero\n",
            "2022-05-30 02:52:23.496675: I tensorflow/stream_executor/cuda/cuda_gpu_executor.cc:939] successful NUMA node read from SysFS had negative value (-1), but there must be at least one NUMA node, so returning NUMA node zero\n",
            "2022-05-30 02:52:23.496786: I tensorflow/core/common_runtime/gpu/gpu_device.cc:1525] Created device /job:localhost/replica:0/task:0/device:GPU:0 with 4403 MB memory:  -> device: 0, name: NVIDIA GeForce GTX 1660 Ti with Max-Q Design, pci bus id: 0000:01:00.0, compute capability: 7.5\n",
            "WARNING:tensorflow:From /home/iga/bachelor_thesis/colab/automl/efficientdet/utils.py:601: The name tf.keras.layers.enable_v2_dtype_behavior is deprecated. Please use tf.compat.v1.keras.layers.enable_v2_dtype_behavior instead.\n",
            "\n",
            "W0530 02:52:24.933303 140715206309696 module_wrapper.py:153] From /home/iga/bachelor_thesis/colab/automl/efficientdet/utils.py:601: The name tf.keras.layers.enable_v2_dtype_behavior is deprecated. Please use tf.compat.v1.keras.layers.enable_v2_dtype_behavior instead.\n",
            "\n",
            "2022-05-30 02:52:24.933653: I tensorflow/stream_executor/cuda/cuda_gpu_executor.cc:939] successful NUMA node read from SysFS had negative value (-1), but there must be at least one NUMA node, so returning NUMA node zero\n",
            "WARNING:tensorflow:From /home/iga/.local/lib/python3.8/site-packages/tensorflow/python/training/moving_averages.py:552: Variable.initialized_value (from tensorflow.python.ops.variables) is deprecated and will be removed in a future version.\n",
            "Instructions for updating:\n",
            "Use Variable.read_value. Variables in 2.X are initialized automatically both in eager and graph (inside tf.defun) contexts.\n",
            "W0530 02:52:31.343108 140715206309696 deprecation.py:341] From /home/iga/.local/lib/python3.8/site-packages/tensorflow/python/training/moving_averages.py:552: Variable.initialized_value (from tensorflow.python.ops.variables) is deprecated and will be removed in a future version.\n",
            "Instructions for updating:\n",
            "Use Variable.read_value. Variables in 2.X are initialized automatically both in eager and graph (inside tf.defun) contexts.\n",
            "WARNING:tensorflow:From /home/iga/.local/lib/python3.8/site-packages/tensorflow/python/saved_model/signature_def_utils_impl.py:207: build_tensor_info (from tensorflow.python.saved_model.utils_impl) is deprecated and will be removed in a future version.\n",
            "Instructions for updating:\n",
            "This function will only be available through the v1 compatibility library as tf.compat.v1.saved_model.utils.build_tensor_info or tf.compat.v1.saved_model.build_tensor_info.\n",
            "W0530 02:52:45.302302 140715206309696 deprecation.py:341] From /home/iga/.local/lib/python3.8/site-packages/tensorflow/python/saved_model/signature_def_utils_impl.py:207: build_tensor_info (from tensorflow.python.saved_model.utils_impl) is deprecated and will be removed in a future version.\n",
            "Instructions for updating:\n",
            "This function will only be available through the v1 compatibility library as tf.compat.v1.saved_model.utils.build_tensor_info or tf.compat.v1.saved_model.build_tensor_info.\n",
            "WARNING:tensorflow:From /home/iga/bachelor_thesis/colab/automl/efficientdet/inference.py:581: convert_variables_to_constants (from tensorflow.python.framework.graph_util_impl) is deprecated and will be removed in a future version.\n",
            "Instructions for updating:\n",
            "Use `tf.compat.v1.graph_util.convert_variables_to_constants`\n",
            "W0530 02:52:50.380108 140715206309696 deprecation.py:341] From /home/iga/bachelor_thesis/colab/automl/efficientdet/inference.py:581: convert_variables_to_constants (from tensorflow.python.framework.graph_util_impl) is deprecated and will be removed in a future version.\n",
            "Instructions for updating:\n",
            "Use `tf.compat.v1.graph_util.convert_variables_to_constants`\n",
            "WARNING:tensorflow:From /home/iga/.local/lib/python3.8/site-packages/tensorflow/python/framework/convert_to_constants.py:929: extract_sub_graph (from tensorflow.python.framework.graph_util_impl) is deprecated and will be removed in a future version.\n",
            "Instructions for updating:\n",
            "Use `tf.compat.v1.graph_util.extract_sub_graph`\n",
            "W0530 02:52:50.381099 140715206309696 deprecation.py:341] From /home/iga/.local/lib/python3.8/site-packages/tensorflow/python/framework/convert_to_constants.py:929: extract_sub_graph (from tensorflow.python.framework.graph_util_impl) is deprecated and will be removed in a future version.\n",
            "Instructions for updating:\n",
            "Use `tf.compat.v1.graph_util.extract_sub_graph`\n",
            "2022-05-30 02:52:55.003377: I tensorflow/stream_executor/cuda/cuda_gpu_executor.cc:939] successful NUMA node read from SysFS had negative value (-1), but there must be at least one NUMA node, so returning NUMA node zero\n",
            "2022-05-30 02:52:55.029332: I tensorflow/stream_executor/cuda/cuda_gpu_executor.cc:939] successful NUMA node read from SysFS had negative value (-1), but there must be at least one NUMA node, so returning NUMA node zero\n",
            "2022-05-30 02:52:55.029491: I tensorflow/stream_executor/cuda/cuda_gpu_executor.cc:939] successful NUMA node read from SysFS had negative value (-1), but there must be at least one NUMA node, so returning NUMA node zero\n",
            "2022-05-30 02:52:55.030366: I tensorflow/core/platform/cpu_feature_guard.cc:151] This TensorFlow binary is optimized with oneAPI Deep Neural Network Library (oneDNN) to use the following CPU instructions in performance-critical operations:  AVX2 FMA\n",
            "To enable them in other operations, rebuild TensorFlow with the appropriate compiler flags.\n",
            "2022-05-30 02:52:55.031399: I tensorflow/stream_executor/cuda/cuda_gpu_executor.cc:939] successful NUMA node read from SysFS had negative value (-1), but there must be at least one NUMA node, so returning NUMA node zero\n",
            "2022-05-30 02:52:55.031606: I tensorflow/stream_executor/cuda/cuda_gpu_executor.cc:939] successful NUMA node read from SysFS had negative value (-1), but there must be at least one NUMA node, so returning NUMA node zero\n",
            "2022-05-30 02:52:55.031741: I tensorflow/stream_executor/cuda/cuda_gpu_executor.cc:939] successful NUMA node read from SysFS had negative value (-1), but there must be at least one NUMA node, so returning NUMA node zero\n",
            "2022-05-30 02:52:55.446128: I tensorflow/stream_executor/cuda/cuda_gpu_executor.cc:939] successful NUMA node read from SysFS had negative value (-1), but there must be at least one NUMA node, so returning NUMA node zero\n",
            "2022-05-30 02:52:55.446322: I tensorflow/stream_executor/cuda/cuda_gpu_executor.cc:939] successful NUMA node read from SysFS had negative value (-1), but there must be at least one NUMA node, so returning NUMA node zero\n",
            "2022-05-30 02:52:55.446462: I tensorflow/stream_executor/cuda/cuda_gpu_executor.cc:939] successful NUMA node read from SysFS had negative value (-1), but there must be at least one NUMA node, so returning NUMA node zero\n",
            "2022-05-30 02:52:55.446576: I tensorflow/core/common_runtime/gpu/gpu_device.cc:1525] Created device /job:localhost/replica:0/task:0/device:GPU:0 with 4403 MB memory:  -> device: 0, name: NVIDIA GeForce GTX 1660 Ti with Max-Q Design, pci bus id: 0000:01:00.0, compute capability: 7.5\n",
            "Traceback (most recent call last):\n",
            "  File \"/home/iga/.local/lib/python3.8/site-packages/tensorflow/python/framework/importer.py\", line 503, in _import_graph_def_internal\n",
            "    results = c_api.TF_GraphImportGraphDefWithResults(\n",
            "tensorflow.python.framework.errors_impl.InvalidArgumentError: Dimensions must be equal, but are 49104 and 441936 for '{{node NonMaxSuppressionV5}} = NonMaxSuppressionV5[T=DT_FLOAT, pad_to_max_output_size=true](strided_slice_18, strided_slice_19, NonMaxSuppressionV5/max_output_size, NonMaxSuppressionV5/iou_threshold, NonMaxSuppressionV5/score_threshold, NonMaxSuppressionV5/soft_nms_sigma)' with input shapes: [49104,4], [441936], [], [], [], [].\n",
            "\n",
            "During handling of the above exception, another exception occurred:\n",
            "\n",
            "Traceback (most recent call last):\n",
            "  File \"model_inspect.py\", line 520, in <module>\n",
            "    app.run(main)\n",
            "  File \"/home/iga/.local/lib/python3.8/site-packages/absl/app.py\", line 312, in run\n",
            "    _run_main(main, args)\n",
            "  File \"/home/iga/.local/lib/python3.8/site-packages/absl/app.py\", line 258, in _run_main\n",
            "    sys.exit(main(argv))\n",
            "  File \"model_inspect.py\", line 501, in main\n",
            "    inspector.run_model(\n",
            "  File \"model_inspect.py\", line 448, in run_model\n",
            "    self.saved_model_benchmark(\n",
            "  File \"model_inspect.py\", line 203, in saved_model_benchmark\n",
            "    driver.load(self.saved_model_dir)\n",
            "  File \"/home/iga/bachelor_thesis/colab/automl/efficientdet/inference.py\", line 576, in load\n",
            "    return tf.import_graph_def(graph_def, name='')\n",
            "  File \"/home/iga/.local/lib/python3.8/site-packages/tensorflow/python/util/deprecation.py\", line 552, in new_func\n",
            "    return func(*args, **kwargs)\n",
            "  File \"/home/iga/.local/lib/python3.8/site-packages/tensorflow/python/framework/importer.py\", line 407, in import_graph_def\n",
            "    return _import_graph_def_internal(\n",
            "  File \"/home/iga/.local/lib/python3.8/site-packages/tensorflow/python/framework/importer.py\", line 508, in _import_graph_def_internal\n",
            "    raise ValueError(str(e))\n",
            "ValueError: Dimensions must be equal, but are 49104 and 441936 for '{{node NonMaxSuppressionV5}} = NonMaxSuppressionV5[T=DT_FLOAT, pad_to_max_output_size=true](strided_slice_18, strided_slice_19, NonMaxSuppressionV5/max_output_size, NonMaxSuppressionV5/iou_threshold, NonMaxSuppressionV5/score_threshold, NonMaxSuppressionV5/soft_nms_sigma)' with input shapes: [49104,4], [441936], [], [], [], [].\n"
          ]
        }
      ],
      "source": [
        "# Benchmark end-to-end latency (: preprocess + network + posprocess).\n",
        "#\n",
        "# With colab + Tesla T4 GPU, here are the batch size 1 latency summary:\n",
        "# D0 (AP=33.5): 22.7ms,  FPS = 43.1   (batch size 4, FPS=)\n",
        "# D1 (AP=39.6): 34.3ms,  FPS = 29.2   (batch size 4, FPS=)\n",
        "# D2 (AP=43.0): 42.5ms,  FPS = 23.5   (batch size 4, FPS=)\n",
        "# D3 (AP=45.8): 64.8ms,  FPS = 15.4   (batch size 4, FPS=)\n",
        "# D4 (AP=49.4): 93.7ms,  FPS = 10.7   (batch size 4, FPS=)\n",
        "\n",
        "m = 'efficientdet-d0'  # @param\n",
        "batch_size = 1  # @param\n",
        "m_path = download(m)\n",
        "\n",
        "saved_model_dir = 'savedmodel'\n",
        "!rm -rf {saved_model_dir}\n",
        "!python3 model_inspect.py --runmode=saved_model --model_name={m} \\\n",
        "  --ckpt_path={m_path} --saved_model_dir={saved_model_dir} \\\n",
        "  --batch_size={batch_size}  --hparams=\"mixed_precision=true\"\n",
        "!python3 model_inspect.py --runmode=saved_model_benchmark --model_name={m} \\\n",
        "  --ckpt_path={m_path} --saved_model_dir={saved_model_dir}/{m}_frozen.pb \\\n",
        "  --batch_size={batch_size}  --hparams=\"mixed_precision=true\" --input_image=testdata/img1.jpg\n"
      ]
    },
    {
      "cell_type": "markdown",
      "metadata": {
        "id": "jGKs3w2_ZXnu"
      },
      "source": [
        "## 1.3 Inference images, but not trained yet.\n",
        "\n",
        "---\n",
        "\n"
      ]
    },
    {
      "cell_type": "code",
      "execution_count": 7,
      "metadata": {
        "colab": {
          "base_uri": "https://localhost:8080/",
          "height": 1000
        },
        "id": "tlh_S6M9ahe5",
        "outputId": "be8ff756-2b62-46a8-de85-3379903b1340"
      },
      "outputs": [
        {
          "name": "stdout",
          "output_type": "stream",
          "text": [
            "2022-05-30 02:52:59.103447: I tensorflow/stream_executor/cuda/cuda_gpu_executor.cc:939] successful NUMA node read from SysFS had negative value (-1), but there must be at least one NUMA node, so returning NUMA node zero\n",
            "2022-05-30 02:52:59.129030: I tensorflow/stream_executor/cuda/cuda_gpu_executor.cc:939] successful NUMA node read from SysFS had negative value (-1), but there must be at least one NUMA node, so returning NUMA node zero\n",
            "2022-05-30 02:52:59.129197: I tensorflow/stream_executor/cuda/cuda_gpu_executor.cc:939] successful NUMA node read from SysFS had negative value (-1), but there must be at least one NUMA node, so returning NUMA node zero\n",
            "2022-05-30 02:52:59.130462: I tensorflow/core/platform/cpu_feature_guard.cc:151] This TensorFlow binary is optimized with oneAPI Deep Neural Network Library (oneDNN) to use the following CPU instructions in performance-critical operations:  AVX2 FMA\n",
            "To enable them in other operations, rebuild TensorFlow with the appropriate compiler flags.\n",
            "2022-05-30 02:52:59.131547: I tensorflow/stream_executor/cuda/cuda_gpu_executor.cc:939] successful NUMA node read from SysFS had negative value (-1), but there must be at least one NUMA node, so returning NUMA node zero\n",
            "2022-05-30 02:52:59.131765: I tensorflow/stream_executor/cuda/cuda_gpu_executor.cc:939] successful NUMA node read from SysFS had negative value (-1), but there must be at least one NUMA node, so returning NUMA node zero\n",
            "2022-05-30 02:52:59.131881: I tensorflow/stream_executor/cuda/cuda_gpu_executor.cc:939] successful NUMA node read from SysFS had negative value (-1), but there must be at least one NUMA node, so returning NUMA node zero\n",
            "2022-05-30 02:52:59.532527: I tensorflow/stream_executor/cuda/cuda_gpu_executor.cc:939] successful NUMA node read from SysFS had negative value (-1), but there must be at least one NUMA node, so returning NUMA node zero\n",
            "2022-05-30 02:52:59.532689: I tensorflow/stream_executor/cuda/cuda_gpu_executor.cc:939] successful NUMA node read from SysFS had negative value (-1), but there must be at least one NUMA node, so returning NUMA node zero\n",
            "2022-05-30 02:52:59.532808: I tensorflow/stream_executor/cuda/cuda_gpu_executor.cc:939] successful NUMA node read from SysFS had negative value (-1), but there must be at least one NUMA node, so returning NUMA node zero\n",
            "2022-05-30 02:52:59.532918: I tensorflow/core/common_runtime/gpu/gpu_device.cc:1525] Created device /job:localhost/replica:0/task:0/device:GPU:0 with 4403 MB memory:  -> device: 0, name: NVIDIA GeForce GTX 1660 Ti with Max-Q Design, pci bus id: 0000:01:00.0, compute capability: 7.5\n",
            "WARNING:tensorflow:From /home/iga/bachelor_thesis/colab/automl/efficientdet/utils.py:601: The name tf.keras.layers.enable_v2_dtype_behavior is deprecated. Please use tf.compat.v1.keras.layers.enable_v2_dtype_behavior instead.\n",
            "\n",
            "W0530 02:52:59.739397 139937082787648 module_wrapper.py:153] From /home/iga/bachelor_thesis/colab/automl/efficientdet/utils.py:601: The name tf.keras.layers.enable_v2_dtype_behavior is deprecated. Please use tf.compat.v1.keras.layers.enable_v2_dtype_behavior instead.\n",
            "\n",
            "WARNING:tensorflow:From /home/iga/.local/lib/python3.8/site-packages/tensorflow/python/training/moving_averages.py:552: Variable.initialized_value (from tensorflow.python.ops.variables) is deprecated and will be removed in a future version.\n",
            "Instructions for updating:\n",
            "Use Variable.read_value. Variables in 2.X are initialized automatically both in eager and graph (inside tf.defun) contexts.\n",
            "W0530 02:53:05.830131 139937082787648 deprecation.py:341] From /home/iga/.local/lib/python3.8/site-packages/tensorflow/python/training/moving_averages.py:552: Variable.initialized_value (from tensorflow.python.ops.variables) is deprecated and will be removed in a future version.\n",
            "Instructions for updating:\n",
            "Use Variable.read_value. Variables in 2.X are initialized automatically both in eager and graph (inside tf.defun) contexts.\n",
            "WARNING:tensorflow:From /home/iga/.local/lib/python3.8/site-packages/tensorflow/python/saved_model/signature_def_utils_impl.py:207: build_tensor_info (from tensorflow.python.saved_model.utils_impl) is deprecated and will be removed in a future version.\n",
            "Instructions for updating:\n",
            "This function will only be available through the v1 compatibility library as tf.compat.v1.saved_model.utils.build_tensor_info or tf.compat.v1.saved_model.build_tensor_info.\n",
            "W0530 02:53:18.017552 139937082787648 deprecation.py:341] From /home/iga/.local/lib/python3.8/site-packages/tensorflow/python/saved_model/signature_def_utils_impl.py:207: build_tensor_info (from tensorflow.python.saved_model.utils_impl) is deprecated and will be removed in a future version.\n",
            "Instructions for updating:\n",
            "This function will only be available through the v1 compatibility library as tf.compat.v1.saved_model.utils.build_tensor_info or tf.compat.v1.saved_model.build_tensor_info.\n",
            "WARNING:tensorflow:From /home/iga/bachelor_thesis/colab/automl/efficientdet/inference.py:581: convert_variables_to_constants (from tensorflow.python.framework.graph_util_impl) is deprecated and will be removed in a future version.\n",
            "Instructions for updating:\n",
            "Use `tf.compat.v1.graph_util.convert_variables_to_constants`\n",
            "W0530 02:53:22.784556 139937082787648 deprecation.py:341] From /home/iga/bachelor_thesis/colab/automl/efficientdet/inference.py:581: convert_variables_to_constants (from tensorflow.python.framework.graph_util_impl) is deprecated and will be removed in a future version.\n",
            "Instructions for updating:\n",
            "Use `tf.compat.v1.graph_util.convert_variables_to_constants`\n",
            "WARNING:tensorflow:From /home/iga/.local/lib/python3.8/site-packages/tensorflow/python/framework/convert_to_constants.py:929: extract_sub_graph (from tensorflow.python.framework.graph_util_impl) is deprecated and will be removed in a future version.\n",
            "Instructions for updating:\n",
            "Use `tf.compat.v1.graph_util.extract_sub_graph`\n",
            "W0530 02:53:22.785548 139937082787648 deprecation.py:341] From /home/iga/.local/lib/python3.8/site-packages/tensorflow/python/framework/convert_to_constants.py:929: extract_sub_graph (from tensorflow.python.framework.graph_util_impl) is deprecated and will be removed in a future version.\n",
            "Instructions for updating:\n",
            "Use `tf.compat.v1.graph_util.extract_sub_graph`\n",
            "mkdir: cannot create directory ‘serve_image_out’: File exists\n",
            "2022-05-30 02:53:27.903606: I tensorflow/stream_executor/cuda/cuda_gpu_executor.cc:939] successful NUMA node read from SysFS had negative value (-1), but there must be at least one NUMA node, so returning NUMA node zero\n",
            "2022-05-30 02:53:27.930626: I tensorflow/stream_executor/cuda/cuda_gpu_executor.cc:939] successful NUMA node read from SysFS had negative value (-1), but there must be at least one NUMA node, so returning NUMA node zero\n",
            "2022-05-30 02:53:27.930826: I tensorflow/stream_executor/cuda/cuda_gpu_executor.cc:939] successful NUMA node read from SysFS had negative value (-1), but there must be at least one NUMA node, so returning NUMA node zero\n",
            "2022-05-30 02:53:27.931710: I tensorflow/core/platform/cpu_feature_guard.cc:151] This TensorFlow binary is optimized with oneAPI Deep Neural Network Library (oneDNN) to use the following CPU instructions in performance-critical operations:  AVX2 FMA\n",
            "To enable them in other operations, rebuild TensorFlow with the appropriate compiler flags.\n",
            "2022-05-30 02:53:27.932383: I tensorflow/stream_executor/cuda/cuda_gpu_executor.cc:939] successful NUMA node read from SysFS had negative value (-1), but there must be at least one NUMA node, so returning NUMA node zero\n",
            "2022-05-30 02:53:27.932633: I tensorflow/stream_executor/cuda/cuda_gpu_executor.cc:939] successful NUMA node read from SysFS had negative value (-1), but there must be at least one NUMA node, so returning NUMA node zero\n",
            "2022-05-30 02:53:27.932783: I tensorflow/stream_executor/cuda/cuda_gpu_executor.cc:939] successful NUMA node read from SysFS had negative value (-1), but there must be at least one NUMA node, so returning NUMA node zero\n",
            "2022-05-30 02:53:28.355014: I tensorflow/stream_executor/cuda/cuda_gpu_executor.cc:939] successful NUMA node read from SysFS had negative value (-1), but there must be at least one NUMA node, so returning NUMA node zero\n",
            "2022-05-30 02:53:28.355200: I tensorflow/stream_executor/cuda/cuda_gpu_executor.cc:939] successful NUMA node read from SysFS had negative value (-1), but there must be at least one NUMA node, so returning NUMA node zero\n",
            "2022-05-30 02:53:28.355385: I tensorflow/stream_executor/cuda/cuda_gpu_executor.cc:939] successful NUMA node read from SysFS had negative value (-1), but there must be at least one NUMA node, so returning NUMA node zero\n",
            "2022-05-30 02:53:28.355509: I tensorflow/core/common_runtime/gpu/gpu_device.cc:1525] Created device /job:localhost/replica:0/task:0/device:GPU:0 with 4403 MB memory:  -> device: 0, name: NVIDIA GeForce GTX 1660 Ti with Max-Q Design, pci bus id: 0000:01:00.0, compute capability: 7.5\n",
            "WARNING:tensorflow:From /home/iga/bachelor_thesis/colab/automl/efficientdet/inference.py:569: load (from tensorflow.python.saved_model.loader_impl) is deprecated and will be removed in a future version.\n",
            "Instructions for updating:\n",
            "This function will only be available through the v1 compatibility library as tf.compat.v1.saved_model.loader.load or tf.compat.v1.saved_model.load. There will be a new function for importing SavedModels in Tensorflow 2.0.\n",
            "W0530 02:53:28.356174 140177539737408 deprecation.py:341] From /home/iga/bachelor_thesis/colab/automl/efficientdet/inference.py:569: load (from tensorflow.python.saved_model.loader_impl) is deprecated and will be removed in a future version.\n",
            "Instructions for updating:\n",
            "This function will only be available through the v1 compatibility library as tf.compat.v1.saved_model.loader.load or tf.compat.v1.saved_model.load. There will be a new function for importing SavedModels in Tensorflow 2.0.\n",
            "all_files= ['testdata/testagain.jpg']\n",
            "2022-05-30 02:53:35.739263: I tensorflow/stream_executor/cuda/cuda_dnn.cc:366] Loaded cuDNN version 8300\n",
            "2022-05-30 02:53:36.542582: W tensorflow/stream_executor/gpu/asm_compiler.cc:111] *** WARNING *** You are using ptxas 10.1.243, which is older than 11.1. ptxas before 11.1 is known to miscompile XLA code, leading to incorrect results or invalid-address errors.\n",
            "\n",
            "You may not need to update to CUDA 11.1; cherry-picking the ptxas binary is often sufficient.\n",
            "Traceback (most recent call last):\n",
            "  File \"/home/iga/.local/lib/python3.8/site-packages/tensorflow/python/client/session.py\", line 1380, in _do_call\n",
            "    return fn(*args)\n",
            "  File \"/home/iga/.local/lib/python3.8/site-packages/tensorflow/python/client/session.py\", line 1363, in _run_fn\n",
            "    return self._call_tf_sessionrun(options, feed_dict, fetch_list,\n",
            "  File \"/home/iga/.local/lib/python3.8/site-packages/tensorflow/python/client/session.py\", line 1456, in _call_tf_sessionrun\n",
            "    return tf_session.TF_SessionRun_wrapper(self._session, options, feed_dict,\n",
            "tensorflow.python.framework.errors_impl.InvalidArgumentError: 2 root error(s) found.\n",
            "  (0) INVALID_ARGUMENT: scores has incompatible shape (Dimensions must be equal, but are 49104 and 441936)\n",
            "\t [[{{node NonMaxSuppressionV5}}]]\n",
            "\t [[NonMaxSuppressionV5/_2877]]\n",
            "  (1) INVALID_ARGUMENT: scores has incompatible shape (Dimensions must be equal, but are 49104 and 441936)\n",
            "\t [[{{node NonMaxSuppressionV5}}]]\n",
            "0 successful operations.\n",
            "0 derived errors ignored.\n",
            "\n",
            "During handling of the above exception, another exception occurred:\n",
            "\n",
            "Traceback (most recent call last):\n",
            "  File \"model_inspect.py\", line 520, in <module>\n",
            "    app.run(main)\n",
            "  File \"/home/iga/.local/lib/python3.8/site-packages/absl/app.py\", line 312, in run\n",
            "    _run_main(main, args)\n",
            "  File \"/home/iga/.local/lib/python3.8/site-packages/absl/app.py\", line 258, in _run_main\n",
            "    sys.exit(main(argv))\n",
            "  File \"model_inspect.py\", line 501, in main\n",
            "    inspector.run_model(\n",
            "  File \"model_inspect.py\", line 467, in run_model\n",
            "    self.saved_model_inference(kwargs['input_image'],\n",
            "  File \"model_inspect.py\", line 183, in saved_model_inference\n",
            "    detections_bs = driver.serve_images(raw_images)\n",
            "  File \"/home/iga/bachelor_thesis/colab/automl/efficientdet/inference.py\", line 552, in serve_images\n",
            "    predictions = self.sess.run(\n",
            "  File \"/home/iga/.local/lib/python3.8/site-packages/tensorflow/python/client/session.py\", line 970, in run\n",
            "    result = self._run(None, fetches, feed_dict, options_ptr,\n",
            "  File \"/home/iga/.local/lib/python3.8/site-packages/tensorflow/python/client/session.py\", line 1193, in _run\n",
            "    results = self._do_run(handle, final_targets, final_fetches,\n",
            "  File \"/home/iga/.local/lib/python3.8/site-packages/tensorflow/python/client/session.py\", line 1373, in _do_run\n",
            "    return self._do_call(_run_fn, feeds, fetches, targets, options,\n",
            "  File \"/home/iga/.local/lib/python3.8/site-packages/tensorflow/python/client/session.py\", line 1399, in _do_call\n",
            "    raise type(e)(node_def, op, message)  # pylint: disable=no-value-for-parameter\n",
            "tensorflow.python.framework.errors_impl.InvalidArgumentError: 2 root error(s) found.\n",
            "  (0) INVALID_ARGUMENT: scores has incompatible shape (Dimensions must be equal, but are 49104 and 441936)\n",
            "\t [[node NonMaxSuppressionV5\n",
            " (defined at /home/iga/bachelor_thesis/colab/automl/efficientdet/inference.py:569)\n",
            "]]\n",
            "\t [[NonMaxSuppressionV5/_2877]]\n",
            "  (1) INVALID_ARGUMENT: scores has incompatible shape (Dimensions must be equal, but are 49104 and 441936)\n",
            "\t [[node NonMaxSuppressionV5\n",
            " (defined at /home/iga/bachelor_thesis/colab/automl/efficientdet/inference.py:569)\n",
            "]]\n",
            "0 successful operations.\n",
            "0 derived errors ignored.\n",
            "\n",
            "Errors may have originated from an input operation.\n",
            "Input Source operations connected to node NonMaxSuppressionV5:\n",
            "In[0] strided_slice_18:\t\n",
            "In[1] strided_slice_19:\t\n",
            "In[2] NonMaxSuppressionV5/max_output_size:\t\n",
            "In[3] NonMaxSuppressionV5/iou_threshold:\t\n",
            "In[4] NonMaxSuppressionV5/score_threshold:\t\n",
            "In[5] NonMaxSuppressionV5/soft_nms_sigma:\n",
            "\n",
            "Operation defined at: (most recent call last)\n",
            ">>>   File \"model_inspect.py\", line 520, in <module>\n",
            ">>>     app.run(main)\n",
            ">>> \n",
            ">>>   File \"/home/iga/.local/lib/python3.8/site-packages/absl/app.py\", line 312, in run\n",
            ">>>     _run_main(main, args)\n",
            ">>> \n",
            ">>>   File \"/home/iga/.local/lib/python3.8/site-packages/absl/app.py\", line 258, in _run_main\n",
            ">>>     sys.exit(main(argv))\n",
            ">>> \n",
            ">>>   File \"model_inspect.py\", line 501, in main\n",
            ">>>     inspector.run_model(\n",
            ">>> \n",
            ">>>   File \"model_inspect.py\", line 467, in run_model\n",
            ">>>     self.saved_model_inference(kwargs['input_image'],\n",
            ">>> \n",
            ">>>   File \"model_inspect.py\", line 162, in saved_model_inference\n",
            ">>>     driver.load(self.saved_model_dir)\n",
            ">>> \n",
            ">>>   File \"/home/iga/bachelor_thesis/colab/automl/efficientdet/inference.py\", line 569, in load\n",
            ">>>     return tf.saved_model.load(self.sess, ['serve'],\n",
            ">>> \n",
            "\n",
            "Input Source operations connected to node NonMaxSuppressionV5:\n",
            "In[0] strided_slice_18:\t\n",
            "In[1] strided_slice_19:\t\n",
            "In[2] NonMaxSuppressionV5/max_output_size:\t\n",
            "In[3] NonMaxSuppressionV5/iou_threshold:\t\n",
            "In[4] NonMaxSuppressionV5/score_threshold:\t\n",
            "In[5] NonMaxSuppressionV5/soft_nms_sigma:\n",
            "\n",
            "Operation defined at: (most recent call last)\n",
            ">>>   File \"model_inspect.py\", line 520, in <module>\n",
            ">>>     app.run(main)\n",
            ">>> \n",
            ">>>   File \"/home/iga/.local/lib/python3.8/site-packages/absl/app.py\", line 312, in run\n",
            ">>>     _run_main(main, args)\n",
            ">>> \n",
            ">>>   File \"/home/iga/.local/lib/python3.8/site-packages/absl/app.py\", line 258, in _run_main\n",
            ">>>     sys.exit(main(argv))\n",
            ">>> \n",
            ">>>   File \"model_inspect.py\", line 501, in main\n",
            ">>>     inspector.run_model(\n",
            ">>> \n",
            ">>>   File \"model_inspect.py\", line 467, in run_model\n",
            ">>>     self.saved_model_inference(kwargs['input_image'],\n",
            ">>> \n",
            ">>>   File \"model_inspect.py\", line 162, in saved_model_inference\n",
            ">>>     driver.load(self.saved_model_dir)\n",
            ">>> \n",
            ">>>   File \"/home/iga/bachelor_thesis/colab/automl/efficientdet/inference.py\", line 569, in load\n",
            ">>>     return tf.saved_model.load(self.sess, ['serve'],\n",
            ">>> \n",
            "\n",
            "Original stack trace for 'NonMaxSuppressionV5':\n",
            "  File \"model_inspect.py\", line 520, in <module>\n",
            "    app.run(main)\n",
            "  File \"/home/iga/.local/lib/python3.8/site-packages/absl/app.py\", line 312, in run\n",
            "    _run_main(main, args)\n",
            "  File \"/home/iga/.local/lib/python3.8/site-packages/absl/app.py\", line 258, in _run_main\n",
            "    sys.exit(main(argv))\n",
            "  File \"model_inspect.py\", line 501, in main\n",
            "    inspector.run_model(\n",
            "  File \"model_inspect.py\", line 467, in run_model\n",
            "    self.saved_model_inference(kwargs['input_image'],\n",
            "  File \"model_inspect.py\", line 162, in saved_model_inference\n",
            "    driver.load(self.saved_model_dir)\n",
            "  File \"/home/iga/bachelor_thesis/colab/automl/efficientdet/inference.py\", line 569, in load\n",
            "    return tf.saved_model.load(self.sess, ['serve'],\n",
            "  File \"/home/iga/.local/lib/python3.8/site-packages/tensorflow/python/util/deprecation.py\", line 348, in new_func\n",
            "    return func(*args, **kwargs)\n",
            "  File \"/home/iga/.local/lib/python3.8/site-packages/tensorflow/python/saved_model/loader_impl.py\", line 346, in load\n",
            "    return loader.load(sess, tags, import_scope, **saver_kwargs)\n",
            "  File \"/home/iga/.local/lib/python3.8/site-packages/tensorflow/python/saved_model/loader_impl.py\", line 501, in load\n",
            "    saver, _ = self.load_graph(sess.graph, tags, import_scope,\n",
            "  File \"/home/iga/.local/lib/python3.8/site-packages/tensorflow/python/saved_model/loader_impl.py\", line 428, in load_graph\n",
            "    return tf_saver._import_meta_graph_with_return_elements(  # pylint: disable=protected-access\n",
            "  File \"/home/iga/.local/lib/python3.8/site-packages/tensorflow/python/training/saver.py\", line 1590, in _import_meta_graph_with_return_elements\n",
            "    meta_graph.import_scoped_meta_graph_with_return_elements(\n",
            "  File \"/home/iga/.local/lib/python3.8/site-packages/tensorflow/python/framework/meta_graph.py\", line 801, in import_scoped_meta_graph_with_return_elements\n",
            "    imported_return_elements = importer.import_graph_def(\n",
            "  File \"/home/iga/.local/lib/python3.8/site-packages/tensorflow/python/util/deprecation.py\", line 552, in new_func\n",
            "    return func(*args, **kwargs)\n",
            "  File \"/home/iga/.local/lib/python3.8/site-packages/tensorflow/python/framework/importer.py\", line 407, in import_graph_def\n",
            "    return _import_graph_def_internal(\n",
            "  File \"/home/iga/.local/lib/python3.8/site-packages/tensorflow/python/framework/importer.py\", line 520, in _import_graph_def_internal\n",
            "    _ProcessNewOps(graph)\n",
            "  File \"/home/iga/.local/lib/python3.8/site-packages/tensorflow/python/framework/importer.py\", line 251, in _ProcessNewOps\n",
            "    for new_op in graph._add_new_tf_operations(compute_devices=False):  # pylint: disable=protected-access\n",
            "  File \"/home/iga/.local/lib/python3.8/site-packages/tensorflow/python/framework/ops.py\", line 3847, in _add_new_tf_operations\n",
            "    new_ops = [\n",
            "  File \"/home/iga/.local/lib/python3.8/site-packages/tensorflow/python/framework/ops.py\", line 3848, in <listcomp>\n",
            "    self._create_op_from_tf_operation(c_op, compute_device=compute_devices)\n",
            "  File \"/home/iga/.local/lib/python3.8/site-packages/tensorflow/python/framework/ops.py\", line 3730, in _create_op_from_tf_operation\n",
            "    ret = Operation(c_op, self)\n",
            "  File \"/home/iga/.local/lib/python3.8/site-packages/tensorflow/python/framework/ops.py\", line 2101, in __init__\n",
            "    self._traceback = tf_stack.extract_stack_for_node(self._c_op)\n",
            "\n"
          ]
        }
      ],
      "source": [
        "# first export a saved model.\n",
        "saved_model_dir = 'savedmodel'\n",
        "!rm -rf {saved_model_dir}\n",
        "!python3 model_inspect.py --runmode=saved_model --model_name={MODEL} \\\n",
        "  --ckpt_path={ckpt_path} --saved_model_dir={saved_model_dir}\n",
        "\n",
        "# Then run saved_model_infer to do inference.\n",
        "# Notably: batch_size, image_size must be the same as when it is exported.\n",
        "serve_image_out = 'serve_image_out'\n",
        "!mkdir {serve_image_out}\n",
        "\n",
        "!python3 model_inspect.py --runmode=saved_model_infer \\\n",
        "  --saved_model_dir={saved_model_dir} \\\n",
        "  --model_name={MODEL}  --input_image=testdata/testagain.jpg  \\\n",
        "  --output_image_dir={serve_image_out} \\\n",
        "  --min_score_thresh={min_score_thresh}  --max_boxes_to_draw={max_boxes_to_draw}"
      ]
    },
    {
      "cell_type": "code",
      "execution_count": 8,
      "metadata": {
        "id": "1q2x8s8GpUJz"
      },
      "outputs": [
        {
          "data": {
            "image/jpeg": "[encoded data removed]",
            "text/plain": [
              "<IPython.core.display.Image object>"
            ]
          },
          "metadata": {},
          "output_type": "display_data"
        }
      ],
      "source": [
        "from IPython import display\n",
        "display.display(display.Image(os.path.join(serve_image_out, '0.jpg')))"
      ]
    },
    {
      "cell_type": "code",
      "execution_count": 9,
      "metadata": {
        "colab": {
          "base_uri": "https://localhost:8080/",
          "height": 1000
        },
        "id": "fHU46tfckaZo",
        "outputId": "1766aecc-1b89-4142-9fd7-2bac421d6411"
      },
      "outputs": [],
      "source": [
        "# # In case you need to specify different image size or batch size or #boxes, then\n",
        "# # you need to export a new saved model and run the inferernce.\n",
        "\n",
        "# serve_image_out = 'serve_image_out'\n",
        "# !rd /s /q {serve_image_out}\n",
        "# saved_model_dir = 'savedmodel'\n",
        "# !rd /s /q {saved_model_dir}\n",
        "\n",
        "# # Step 1: export model\n",
        "# !python model_inspect.py --runmode=saved_model \\\n",
        "#   --model_name=efficientdet-d0 --ckpt_path=efficientdet-d0 \\\n",
        "#   --hparams=\"image_size=1920x1280\" --saved_model_dir={saved_model_dir}\n",
        "\n",
        "# # Step 2: do inference with saved model.\n",
        "# !python model_inspect.py --runmode=saved_model_infer \\\n",
        "#   --model_name=efficientdet-d0 --saved_model_dir={saved_model_dir} \\\n",
        "#   --input_image=testagain.jpg --output_image_dir={serve_image_out} \\\n",
        "#   --min_score_thresh={min_score_thresh}  --max_boxes_to_draw={max_boxes_to_draw}\n",
        "\n",
        "# from IPython import display\n",
        "# display.display(display.Image(os.path.join(serve_image_out, '0.jpg')))"
      ]
    },
    {
      "cell_type": "markdown",
      "metadata": {
        "id": "Vxm-kvfuAZne"
      },
      "source": [
        "## 1.4 Inference video"
      ]
    },
    {
      "cell_type": "code",
      "execution_count": 10,
      "metadata": {
        "colab": {
          "base_uri": "https://localhost:8080/",
          "height": 1000
        },
        "id": "3Pdnd1kQAgKY",
        "outputId": "349bcbf2-4ad4-46d9-836b-17e5e1ea03b5"
      },
      "outputs": [],
      "source": [
        "# # step 0: download video\n",
        "# video_url = 'https://storage.googleapis.com/cloud-tpu-checkpoints/efficientdet/data/video480p.mov'  # @param\n",
        "# !wget {video_url} -O input.mov\n",
        "\n",
        "# # Step 1: export model\n",
        "# saved_model_dir = 'savedmodel'\n",
        "# !rm -rf {saved_model_dir}\n",
        "\n",
        "# !python model_inspect.py --runmode=saved_model \\\n",
        "#   --model_name=efficientdet-d0 --ckpt_path=efficientdet-d0 \\\n",
        "#   --saved_model_dir={saved_model_dir} --hparams=\"mixed_precision=true\"\n",
        "\n",
        "# # Step 2: do inference with saved model using saved_model_video\n",
        "# !python model_inspect.py --runmode=saved_model_video \\\n",
        "#   --model_name=efficientdet-d0   --ckpt_path=efficientdet-d0 \\\n",
        "#   --saved_model_dir={saved_model_dir} --hparams=\"mixed_precision=true\" \\\n",
        "#   --input_video=input.mov --output_video=output.mov\n",
        "# # Then you can view the output.mov"
      ]
    },
    {
      "cell_type": "markdown",
      "metadata": {
        "id": "RW26DwfirQQN"
      },
      "source": [
        "# 3. COCO evaluation"
      ]
    },
    {
      "cell_type": "markdown",
      "metadata": {
        "id": "cfn_tRFOWKMO"
      },
      "source": [
        "## 3.1 COCO evaluation on validation set."
      ]
    },
    {
      "cell_type": "code",
      "execution_count": 11,
      "metadata": {
        "colab": {
          "base_uri": "https://localhost:8080/",
          "height": 1000
        },
        "id": "2s6E8IsVN0pB",
        "outputId": "c980908a-8110-47d0-b0f8-287cb938dfd6"
      },
      "outputs": [],
      "source": [
        "# if 'val2017' not in os.listdir():\n",
        "#   !wget http://images.cocodataset.org/zips/val2017.zip\n",
        "#   !wget http://images.cocodataset.org/annotations/annotations_trainval2017.zip\n",
        "#   !unzip -q val2017.zip\n",
        "#   !unzip annotations_trainval2017.zip\n",
        "\n",
        "#   !mkdir tfrecord\n",
        "#   !PYTHONPATH=\".:$PYTHONPATH\"  python dataset/create_coco_tfrecord.py \\\n",
        "#       --image_dir=val2017 \\\n",
        "#       --caption_annotations_file=annotations/captions_val2017.json \\\n",
        "#       --output_file_prefix=tfrecord/val \\\n",
        "#       --num_shards=32"
      ]
    },
    {
      "cell_type": "code",
      "execution_count": 12,
      "metadata": {
        "colab": {
          "base_uri": "https://localhost:8080/",
          "height": 1000
        },
        "id": "eLHZUY3jQpZr",
        "outputId": "b56106a2-10d9-4707-8b93-d2c6fef49e1d"
      },
      "outputs": [],
      "source": [
        "# # Evalute on validation set (takes about 10 mins for efficientdet-d0)\n",
        "# !python main.py --mode=eval  \\\n",
        "#     --model_name={MODEL}  --model_dir={ckpt_path}  \\\n",
        "#     --val_file_pattern=tfrecord/val*  \\\n",
        "#     --val_json_file=annotations/instances_val2017.json"
      ]
    },
    {
      "cell_type": "markdown",
      "metadata": {
        "id": "mDp_acD1pUcx"
      },
      "source": [
        "## 3.2 COCO evaluation on test-dev."
      ]
    },
    {
      "cell_type": "code",
      "execution_count": 13,
      "metadata": {
        "id": "9RI_dvx5pbBK"
      },
      "outputs": [],
      "source": [
        "# # Eval on test-dev is slow (~40 mins), please be cautious. \n",
        "# RUN_EXPENSIVE_TEST_DEV_EVAL = True  #@param\n",
        "\n",
        "# if RUN_EXPENSIVE_TEST_DEV_EVAL == True:\n",
        "#   !rm *.zip *.tar tfrecord/ val2017/   # Cleanup disk space\n",
        "#   # Download and convert test-dev data.\n",
        "#   if \"test2017\" not in os.listdir():\n",
        "#     !wget http://images.cocodataset.org/zips/test2017.zip\n",
        "#     !unzip -q test2017.zip\n",
        "#     !wget http://images.cocodataset.org/annotations/image_info_test2017.zip\n",
        "#     !unzip image_info_test2017.zip\n",
        "\n",
        "#     !mkdir tfrecord\n",
        "#     !PYTHONPATH=\".:$PYTHONPATH\"  python dataset/create_coco_tfrecord.py \\\n",
        "#           --image_dir=test2017 \\\n",
        "#           --image_info_file=annotations/image_info_test-dev2017.json \\\n",
        "#           --output_file_prefix=tfrecord/testdev \\\n",
        "#           --num_shards=32\n",
        "\n",
        "#   # Evalute on validation set: non-empty testdev_dir is the key pararmeter.\n",
        "#   # Also, test-dev has 20288 images rather than val 5000 images.\n",
        "#   !mkdir testdev_output\n",
        "#   !python main.py --mode=eval  \\\n",
        "#       --model_name={MODEL}  --model_dir={ckpt_path}  \\\n",
        "#       --val_file_pattern=tfrecord/testdev*  \\\n",
        "#       --eval_batch_size=8  --eval_samples=20288 \\\n",
        "#       --testdev_dir='testdev_output'\n",
        "#   !rm -rf test2017  # delete images to release disk space.\n",
        "#   # Now you can submit testdev_output/detections_test-dev2017_test_results.json to\n",
        "#   # coco server: https://competitions.codalab.org/competitions/20794#participate"
      ]
    },
    {
      "cell_type": "markdown",
      "metadata": {
        "id": "RW90fiMiyg4n"
      },
      "source": [
        "# 4. Training EfficientDets on VisDrone."
      ]
    },
    {
      "cell_type": "markdown",
      "metadata": {
        "id": "C98Ye0MEyuKD"
      },
      "source": [
        "## 4.1 Prepare data"
      ]
    },
    {
      "cell_type": "code",
      "execution_count": 14,
      "metadata": {},
      "outputs": [],
      "source": [
        "  # #the flag is from pascal VOC, but the .py is already modified\n",
        "  # # !python dataset/create_visdrone_tfrecord.py  \\\n",
        "  # #   --data_dir=VOCdevkit --year=VOC2012  --output_path=tfrecord_drone_new/visdrone\n",
        "\n",
        "  # !python dataset/create_visdrone_tfrecord.py  --data_dir=D:/codingan_serius/bachelor_thesis/Tensorflow/VisDrone2019-DET-train  \\\n",
        "  #   --year=VOC2012 --output_path=./tfrecord_drone_new/train/"
      ]
    },
    {
      "cell_type": "markdown",
      "metadata": {
        "id": "ZcxDDCCW0ndv"
      },
      "source": [
        "## 4.2 Train VisDrone from ImageNet checkpoint for Backbone."
      ]
    },
    {
      "cell_type": "code",
      "execution_count": 5,
      "metadata": {},
      "outputs": [
        {
          "name": "stdout",
          "output_type": "stream",
          "text": [
            "images_per_epoch = 5696\n"
          ]
        }
      ],
      "source": [
        "# Pascal has 5717 train images with 100 shards epoch, here we use a single shard\n",
        "# for demo, but users should use all shards pascal-*-of-00100.tfrecord.\n",
        "file_pattern = '-*-of-00100.tfrecord'  # @param\n",
        "images_per_epoch = 57 * len(tf.io.gfile.glob('train/' + file_pattern))\n",
        "\n",
        "images_per_epoch = images_per_epoch // 8 * 8  # round to 64.\n",
        "print('images_per_epoch = {}'.format(images_per_epoch))"
      ]
    },
    {
      "cell_type": "code",
      "execution_count": 6,
      "metadata": {},
      "outputs": [],
      "source": [
        "backbone_name = {\n",
        "    'efficientdet-d0': 'efficientnet-b0',\n",
        "    'efficientdet-d1': 'efficientnet-b1',\n",
        "    'efficientdet-d2': 'efficientnet-b2',\n",
        "    'efficientdet-d3': 'efficientnet-b3',\n",
        "    'efficientdet-d4': 'efficientnet-b4',\n",
        "    'efficientdet-d5': 'efficientnet-b5',\n",
        "    'efficientdet-d6': 'efficientnet-b6',\n",
        "    'efficientdet-d7': 'efficientnet-b6',\n",
        "}[MODEL]\n",
        "\n",
        "\n",
        "# generating train tfrecord is large, so we skip the execution here.\n",
        "import os\n",
        "if backbone_name not in os.listdir():\n",
        "  print(\"trying download and extract\")\n",
        "  !wget https://storage.googleapis.com/cloud-tpu-checkpoints/efficientnet/ckptsaug/{backbone_name}.tar.gz\n",
        "  !tar zxf {backbone_name}.tar.gz"
      ]
    },
    {
      "cell_type": "code",
      "execution_count": 12,
      "metadata": {
        "colab": {
          "base_uri": "https://localhost:8080/",
          "height": 1000
        },
        "id": "SHPgm9Q13X-l",
        "outputId": "58a022a3-701a-42ca-cec7-cffb8f3cba85"
      },
      "outputs": [
        {
          "name": "stdout",
          "output_type": "stream",
          "text": [
            "2022-06-28 13:17:03.013614: I tensorflow/stream_executor/cuda/cuda_gpu_executor.cc:939] successful NUMA node read from SysFS had negative value (-1), but there must be at least one NUMA node, so returning NUMA node zero\n",
            "2022-06-28 13:17:03.039611: I tensorflow/stream_executor/cuda/cuda_gpu_executor.cc:939] successful NUMA node read from SysFS had negative value (-1), but there must be at least one NUMA node, so returning NUMA node zero\n",
            "2022-06-28 13:17:03.039791: I tensorflow/stream_executor/cuda/cuda_gpu_executor.cc:939] successful NUMA node read from SysFS had negative value (-1), but there must be at least one NUMA node, so returning NUMA node zero\n",
            "I0628 13:17:03.040321 140046029686592 main.py:228] {'name': 'efficientdet-d0', 'act_type': 'swish', 'image_size': (512, 512), 'target_size': None, 'input_rand_hflip': True, 'jitter_min': 0.1, 'jitter_max': 2.0, 'autoaugment_policy': None, 'grid_mask': False, 'sample_image': None, 'map_freq': 5, 'num_classes': 10, 'seg_num_classes': 3, 'heads': ['object_detection'], 'skip_crowd_during_training': True, 'label_map': None, 'max_instances_per_image': 5697, 'regenerate_source_id': False, 'min_level': 3, 'max_level': 7, 'num_scales': 3, 'aspect_ratios': [1.0, 2.0, 0.5], 'anchor_scale': 4.0, 'is_training_bn': True, 'momentum': 0.9, 'optimizer': 'sgd', 'learning_rate': 0.008, 'lr_warmup_init': 0.0008, 'lr_warmup_epoch': 1.0, 'first_lr_drop_epoch': 200.0, 'second_lr_drop_epoch': 250.0, 'poly_lr_power': 0.9, 'clip_gradients_norm': 10.0, 'num_epochs': 50, 'data_format': 'channels_last', 'mean_rgb': [123.675, 116.28, 103.53], 'stddev_rgb': [58.395, 57.120000000000005, 57.375], 'scale_range': False, 'label_smoothing': 0.0, 'alpha': 0.25, 'gamma': 1.5, 'delta': 0.1, 'box_loss_weight': 50.0, 'iou_loss_type': None, 'iou_loss_weight': 1.0, 'weight_decay': 4e-05, 'strategy': None, 'mixed_precision': True, 'loss_scale': None, 'model_optimizations': {}, 'box_class_repeats': 3, 'fpn_cell_repeats': 3, 'fpn_num_filters': 64, 'separable_conv': True, 'apply_bn_for_resampling': True, 'conv_after_downsample': False, 'conv_bn_act_pattern': False, 'drop_remainder': True, 'nms_configs': {'method': 'gaussian', 'iou_thresh': None, 'score_thresh': 0.0, 'sigma': None, 'pyfunc': False, 'max_nms_inputs': 0, 'max_output_size': 100}, 'tflite_max_detections': 100, 'fpn_name': None, 'fpn_weight_method': None, 'fpn_config': None, 'survival_prob': None, 'img_summary_steps': None, 'lr_decay_method': 'cosine', 'moving_average_decay': 0, 'ckpt_var_scope': None, 'skip_mismatch': True, 'backbone_name': 'efficientnet-b0', 'backbone_config': None, 'var_freeze_expr': None, 'use_keras_model': True, 'dataset_type': None, 'positives_momentum': None, 'grad_checkpoint': False, 'verbose': 1, 'save_freq': 'epoch', 'model_name': 'efficientdet-d0', 'iterations_per_loop': 1000, 'model_dir': '../model_dir/50-epochs/efficientdet-d0-scratch-ep50-sgd', 'num_shards': 8, 'num_examples_per_epoch': 5696, 'backbone_ckpt': 'efficientnet-b0', 'ckpt': None, 'val_json_file': None, 'testdev_dir': None, 'profile': False, 'mode': 'train_and_eval'}\n",
            "INFO:tensorflow:Using config: {'_model_dir': '../model_dir/50-epochs/efficientdet-d0-scratch-ep50-sgd', '_tf_random_seed': None, '_save_summary_steps': 100, '_save_checkpoints_steps': 1000, '_save_checkpoints_secs': None, '_session_config': allow_soft_placement: true\n",
            ", '_keep_checkpoint_max': 5, '_keep_checkpoint_every_n_hours': 10000, '_log_step_count_steps': 1000, '_train_distribute': None, '_device_fn': None, '_protocol': None, '_eval_distribute': None, '_experimental_distribute': None, '_experimental_max_worker_delay_secs': None, '_session_creation_timeout_secs': 7200, '_checkpoint_save_graph_def': True, '_service': None, '_cluster_spec': ClusterSpec({}), '_task_type': 'worker', '_task_id': 0, '_global_id_in_cluster': 0, '_master': '', '_evaluation_master': '', '_is_chief': True, '_num_ps_replicas': 0, '_num_worker_replicas': 1}\n",
            "I0628 13:17:03.063063 140046029686592 estimator.py:202] Using config: {'_model_dir': '../model_dir/50-epochs/efficientdet-d0-scratch-ep50-sgd', '_tf_random_seed': None, '_save_summary_steps': 100, '_save_checkpoints_steps': 1000, '_save_checkpoints_secs': None, '_session_config': allow_soft_placement: true\n",
            ", '_keep_checkpoint_max': 5, '_keep_checkpoint_every_n_hours': 10000, '_log_step_count_steps': 1000, '_train_distribute': None, '_device_fn': None, '_protocol': None, '_eval_distribute': None, '_experimental_distribute': None, '_experimental_max_worker_delay_secs': None, '_session_creation_timeout_secs': 7200, '_checkpoint_save_graph_def': True, '_service': None, '_cluster_spec': ClusterSpec({}), '_task_type': 'worker', '_task_id': 0, '_global_id_in_cluster': 0, '_master': '', '_evaluation_master': '', '_is_chief': True, '_num_ps_replicas': 0, '_num_worker_replicas': 1}\n",
            "INFO:tensorflow:Using config: {'_model_dir': '../model_dir/50-epochs/efficientdet-d0-scratch-ep50-sgd', '_tf_random_seed': None, '_save_summary_steps': 100, '_save_checkpoints_steps': 1000, '_save_checkpoints_secs': None, '_session_config': allow_soft_placement: true\n",
            ", '_keep_checkpoint_max': 5, '_keep_checkpoint_every_n_hours': 10000, '_log_step_count_steps': 1000, '_train_distribute': None, '_device_fn': None, '_protocol': None, '_eval_distribute': None, '_experimental_distribute': None, '_experimental_max_worker_delay_secs': None, '_session_creation_timeout_secs': 7200, '_checkpoint_save_graph_def': True, '_service': None, '_cluster_spec': ClusterSpec({}), '_task_type': 'worker', '_task_id': 0, '_global_id_in_cluster': 0, '_master': '', '_evaluation_master': '', '_is_chief': True, '_num_ps_replicas': 0, '_num_worker_replicas': 1}\n",
            "I0628 13:17:03.063532 140046029686592 estimator.py:202] Using config: {'_model_dir': '../model_dir/50-epochs/efficientdet-d0-scratch-ep50-sgd', '_tf_random_seed': None, '_save_summary_steps': 100, '_save_checkpoints_steps': 1000, '_save_checkpoints_secs': None, '_session_config': allow_soft_placement: true\n",
            ", '_keep_checkpoint_max': 5, '_keep_checkpoint_every_n_hours': 10000, '_log_step_count_steps': 1000, '_train_distribute': None, '_device_fn': None, '_protocol': None, '_eval_distribute': None, '_experimental_distribute': None, '_experimental_max_worker_delay_secs': None, '_session_creation_timeout_secs': 7200, '_checkpoint_save_graph_def': True, '_service': None, '_cluster_spec': ClusterSpec({}), '_task_type': 'worker', '_task_id': 0, '_global_id_in_cluster': 0, '_master': '', '_evaluation_master': '', '_is_chief': True, '_num_ps_replicas': 0, '_num_worker_replicas': 1}\n",
            "I0628 13:17:03.064153 140046029686592 main.py:335] found ckpt at step 284800 (epoch 50)\n"
          ]
        }
      ],
      "source": [
        "# Train efficientdet from scratch with backbone checkpoint.\n",
        "\n",
        "\n",
        "#file_pattern_new='D:/codingan_serius/bachelor_thesis/Tensorflow/workspace/data/train.tfrecord'\n",
        "#!mkdir /tmp/model_dir/\n",
        "# key option: use --backbone_ckpt rather than --ckpt.\n",
        "# Don't use ema since we only train a few steps.\n",
        "# num class tadinya 11 sekarang 12, terus ganti 10 kwkwk\n",
        "#--hparams=\"num_classes=10,moving_average_decay=0,mixed_precision=true,max_instances_per_image={images_per_epoch+1},optimizer='adam' \"\n",
        "!python3 main.py --mode=train_and_eval \\\n",
        "    --train_file_pattern=train/{file_pattern} \\\n",
        "    --val_file_pattern=tfrecord_visdrone/val/{file_pattern} \\\n",
        "    --model_name={MODEL} \\\n",
        "    --model_dir=../model_dir/50-epochs/{MODEL}-scratch-ep50-sgd\\\n",
        "    --backbone_ckpt={backbone_name} \\\n",
        "    --train_batch_size=1 \\\n",
        "    --eval_batch_size=1 --eval_samples=548  \\\n",
        "    --num_examples_per_epoch={images_per_epoch}  --num_epochs=50  \\\n",
        "    --hparams=\"num_classes=10,moving_average_decay=0,mixed_precision=true,max_instances_per_image={images_per_epoch+1},optimizer='sgd' \""
      ]
    },
    {
      "cell_type": "markdown",
      "metadata": {
        "id": "SKHu-3lBwTiM"
      },
      "source": [
        "## 4.3 Train PASCAL VOC 2012 from COCO checkpoint for the whole net."
      ]
    },
    {
      "cell_type": "code",
      "execution_count": 1,
      "metadata": {
        "colab": {
          "base_uri": "https://localhost:8080/",
          "height": 1000
        },
        "id": "SD59rsZJc1WW",
        "outputId": "fe9ea8fe-976b-49f1-8af5-917eb518ddaf"
      },
      "outputs": [
        {
          "ename": "NameError",
          "evalue": "name 'MODEL' is not defined",
          "output_type": "error",
          "traceback": [
            "\u001b[0;31m---------------------------------------------------------------------------\u001b[0m",
            "\u001b[0;31mNameError\u001b[0m                                 Traceback (most recent call last)",
            "\u001b[0;32m/tmp/ipykernel_3410/3864665119.py\u001b[0m in \u001b[0;36m<module>\u001b[0;34m\u001b[0m\n\u001b[1;32m      1\u001b[0m \u001b[0;31m# generating train tfrecord is large, so we skip the execution here.\u001b[0m\u001b[0;34m\u001b[0m\u001b[0;34m\u001b[0m\u001b[0;34m\u001b[0m\u001b[0m\n\u001b[1;32m      2\u001b[0m \u001b[0;32mimport\u001b[0m \u001b[0mos\u001b[0m\u001b[0;34m\u001b[0m\u001b[0;34m\u001b[0m\u001b[0m\n\u001b[0;32m----> 3\u001b[0;31m \u001b[0;32mif\u001b[0m \u001b[0mMODEL\u001b[0m \u001b[0;32mnot\u001b[0m \u001b[0;32min\u001b[0m \u001b[0mos\u001b[0m\u001b[0;34m.\u001b[0m\u001b[0mlistdir\u001b[0m\u001b[0;34m(\u001b[0m\u001b[0;34m)\u001b[0m\u001b[0;34m:\u001b[0m\u001b[0;34m\u001b[0m\u001b[0;34m\u001b[0m\u001b[0m\n\u001b[0m\u001b[1;32m      4\u001b[0m   \u001b[0mget_ipython\u001b[0m\u001b[0;34m(\u001b[0m\u001b[0;34m)\u001b[0m\u001b[0;34m.\u001b[0m\u001b[0msystem\u001b[0m\u001b[0;34m(\u001b[0m\u001b[0;34m'wget https://storage.googleapis.com/cloud-tpu-checkpoints/efficientdet/coco/{MODEL}.tar.gz'\u001b[0m\u001b[0;34m)\u001b[0m\u001b[0;34m\u001b[0m\u001b[0;34m\u001b[0m\u001b[0m\n\u001b[1;32m      5\u001b[0m   \u001b[0mget_ipython\u001b[0m\u001b[0;34m(\u001b[0m\u001b[0;34m)\u001b[0m\u001b[0;34m.\u001b[0m\u001b[0msystem\u001b[0m\u001b[0;34m(\u001b[0m\u001b[0;34m'tar xf {MODEL}.tar.gz'\u001b[0m\u001b[0;34m)\u001b[0m\u001b[0;34m\u001b[0m\u001b[0;34m\u001b[0m\u001b[0m\n",
            "\u001b[0;31mNameError\u001b[0m: name 'MODEL' is not defined"
          ]
        }
      ],
      "source": [
        "# generating train tfrecord is large, so we skip the execution here.\n",
        "import os\n",
        "if MODEL not in os.listdir():\n",
        "  !wget https://storage.googleapis.com/cloud-tpu-checkpoints/efficientdet/coco/{MODEL}.tar.gz\n",
        "  !tar xf {MODEL}.tar.gz\n",
        "\n",
        "file_pattern_new='D:/codingan_serius/bachelor_thesis/Tensorflow/workspace/data/train.tfrecord'\n",
        "\n",
        "!mkdir /tmp/model_dir/\n",
        "# key option: use --ckpt rather than --backbone_ckpt.\n",
        "!python main.py --mode=train_and_eval \\\n",
        "    --train_file_pattern=tfrecord/{file_pattern} \\\n",
        "    --val_file_pattern=tfrecord/{file_pattern} \\\n",
        "    --model_name={MODEL} \\\n",
        "    --model_dir=/tmp/model_dir/{MODEL}-finetune \\\n",
        "    --ckpt={MODEL} \\\n",
        "    --train_batch_size=8 \\\n",
        "    --eval_batch_size=8 --eval_samples={images_per_epoch}  \\\n",
        "    --num_examples_per_epoch={images_per_epoch}  --num_epochs=1  \\\n",
        "    --hparams=\"num_classes=20,moving_average_decay=0,mixed_precision=true\""
      ]
    },
    {
      "cell_type": "markdown",
      "metadata": {
        "id": "QcBGPMCXRC8q"
      },
      "source": [
        "## 4.4 View tensorboard for loss and accuracy.\n"
      ]
    },
    {
      "cell_type": "code",
      "execution_count": 5,
      "metadata": {
        "id": "Vrkty06SRD0k"
      },
      "outputs": [
        {
          "data": {
            "text/html": [
              "\n",
              "      <iframe id=\"tensorboard-frame-1f587429beb34deb\" width=\"100%\" height=\"800\" frameborder=\"0\">\n",
              "      </iframe>\n",
              "      <script>\n",
              "        (function() {\n",
              "          const frame = document.getElementById(\"tensorboard-frame-1f587429beb34deb\");\n",
              "          const url = new URL(\"/\", window.location);\n",
              "          const port = 6006;\n",
              "          if (port) {\n",
              "            url.port = port;\n",
              "          }\n",
              "          frame.src = url;\n",
              "        })();\n",
              "      </script>\n",
              "    "
            ],
            "text/plain": [
              "<IPython.core.display.HTML object>"
            ]
          },
          "metadata": {},
          "output_type": "display_data"
        }
      ],
      "source": [
        "%load_ext tensorboard\n",
        "%tensorboard --logdir ../model_dir/\n",
        "# Notably, this is just a demo with almost zero accuracy due to very limited\n",
        "# training steps, but we can see finetuning has smaller loss than training\n",
        "# from scratch at the begining."
      ]
    },
    {
      "cell_type": "markdown",
      "metadata": {},
      "source": [
        "# 4.5 Evaluation and scoring only"
      ]
    },
    {
      "cell_type": "code",
      "execution_count": 10,
      "metadata": {},
      "outputs": [
        {
          "name": "stdout",
          "output_type": "stream",
          "text": [
            "2022-06-28 13:12:23.500360: I tensorflow/stream_executor/cuda/cuda_gpu_executor.cc:939] successful NUMA node read from SysFS had negative value (-1), but there must be at least one NUMA node, so returning NUMA node zero\n",
            "2022-06-28 13:12:23.526382: I tensorflow/stream_executor/cuda/cuda_gpu_executor.cc:939] successful NUMA node read from SysFS had negative value (-1), but there must be at least one NUMA node, so returning NUMA node zero\n",
            "2022-06-28 13:12:23.526622: I tensorflow/stream_executor/cuda/cuda_gpu_executor.cc:939] successful NUMA node read from SysFS had negative value (-1), but there must be at least one NUMA node, so returning NUMA node zero\n",
            "I0628 13:12:23.527281 140429312939840 main.py:228] {'name': 'efficientdet-d0', 'act_type': 'swish', 'image_size': (512, 512), 'target_size': None, 'input_rand_hflip': True, 'jitter_min': 0.1, 'jitter_max': 2.0, 'autoaugment_policy': None, 'grid_mask': False, 'sample_image': None, 'map_freq': 5, 'num_classes': 10, 'seg_num_classes': 3, 'heads': ['object_detection'], 'skip_crowd_during_training': True, 'label_map': None, 'max_instances_per_image': 5697, 'regenerate_source_id': False, 'min_level': 3, 'max_level': 7, 'num_scales': 3, 'aspect_ratios': [1.0, 2.0, 0.5], 'anchor_scale': 4.0, 'is_training_bn': True, 'momentum': 0.9, 'optimizer': 'sgd', 'learning_rate': 0.008, 'lr_warmup_init': 0.0008, 'lr_warmup_epoch': 1.0, 'first_lr_drop_epoch': 200.0, 'second_lr_drop_epoch': 250.0, 'poly_lr_power': 0.9, 'clip_gradients_norm': 10.0, 'num_epochs': 300, 'data_format': 'channels_last', 'mean_rgb': [123.675, 116.28, 103.53], 'stddev_rgb': [58.395, 57.120000000000005, 57.375], 'scale_range': False, 'label_smoothing': 0.0, 'alpha': 0.25, 'gamma': 1.5, 'delta': 0.1, 'box_loss_weight': 50.0, 'iou_loss_type': None, 'iou_loss_weight': 1.0, 'weight_decay': 4e-05, 'strategy': None, 'mixed_precision': True, 'loss_scale': None, 'model_optimizations': {}, 'box_class_repeats': 3, 'fpn_cell_repeats': 3, 'fpn_num_filters': 64, 'separable_conv': True, 'apply_bn_for_resampling': True, 'conv_after_downsample': False, 'conv_bn_act_pattern': False, 'drop_remainder': True, 'nms_configs': {'method': 'gaussian', 'iou_thresh': None, 'score_thresh': 0.0, 'sigma': None, 'pyfunc': False, 'max_nms_inputs': 0, 'max_output_size': 100}, 'tflite_max_detections': 100, 'fpn_name': None, 'fpn_weight_method': None, 'fpn_config': None, 'survival_prob': None, 'img_summary_steps': None, 'lr_decay_method': 'cosine', 'moving_average_decay': 0, 'ckpt_var_scope': None, 'skip_mismatch': True, 'backbone_name': 'efficientnet-b0', 'backbone_config': None, 'var_freeze_expr': None, 'use_keras_model': True, 'dataset_type': None, 'positives_momentum': None, 'grad_checkpoint': False, 'verbose': 1, 'save_freq': 'epoch', 'model_name': 'efficientdet-d0', 'iterations_per_loop': 1000, 'model_dir': '../model_dir/50-epochs/efficientdet-d0-scratch-ep50-sgd', 'num_shards': 8, 'num_examples_per_epoch': 548, 'backbone_ckpt': 'efficientnet-b0', 'ckpt': None, 'val_json_file': None, 'testdev_dir': None, 'profile': False, 'mode': 'eval'}\n",
            "INFO:tensorflow:Using config: {'_model_dir': '../model_dir/50-epochs/efficientdet-d0-scratch-ep50-sgd', '_tf_random_seed': None, '_save_summary_steps': 100, '_save_checkpoints_steps': 1000, '_save_checkpoints_secs': None, '_session_config': allow_soft_placement: true\n",
            ", '_keep_checkpoint_max': 5, '_keep_checkpoint_every_n_hours': 10000, '_log_step_count_steps': 1000, '_train_distribute': None, '_device_fn': None, '_protocol': None, '_eval_distribute': None, '_experimental_distribute': None, '_experimental_max_worker_delay_secs': None, '_session_creation_timeout_secs': 7200, '_checkpoint_save_graph_def': True, '_service': None, '_cluster_spec': ClusterSpec({}), '_task_type': 'worker', '_task_id': 0, '_global_id_in_cluster': 0, '_master': '', '_evaluation_master': '', '_is_chief': True, '_num_ps_replicas': 0, '_num_worker_replicas': 1}\n",
            "I0628 13:12:23.551740 140429312939840 estimator.py:202] Using config: {'_model_dir': '../model_dir/50-epochs/efficientdet-d0-scratch-ep50-sgd', '_tf_random_seed': None, '_save_summary_steps': 100, '_save_checkpoints_steps': 1000, '_save_checkpoints_secs': None, '_session_config': allow_soft_placement: true\n",
            ", '_keep_checkpoint_max': 5, '_keep_checkpoint_every_n_hours': 10000, '_log_step_count_steps': 1000, '_train_distribute': None, '_device_fn': None, '_protocol': None, '_eval_distribute': None, '_experimental_distribute': None, '_experimental_max_worker_delay_secs': None, '_session_creation_timeout_secs': 7200, '_checkpoint_save_graph_def': True, '_service': None, '_cluster_spec': ClusterSpec({}), '_task_type': 'worker', '_task_id': 0, '_global_id_in_cluster': 0, '_master': '', '_evaluation_master': '', '_is_chief': True, '_num_ps_replicas': 0, '_num_worker_replicas': 1}\n",
            "INFO:tensorflow:Using config: {'_model_dir': '../model_dir/50-epochs/efficientdet-d0-scratch-ep50-sgd', '_tf_random_seed': None, '_save_summary_steps': 100, '_save_checkpoints_steps': 1000, '_save_checkpoints_secs': None, '_session_config': allow_soft_placement: true\n",
            ", '_keep_checkpoint_max': 5, '_keep_checkpoint_every_n_hours': 10000, '_log_step_count_steps': 1000, '_train_distribute': None, '_device_fn': None, '_protocol': None, '_eval_distribute': None, '_experimental_distribute': None, '_experimental_max_worker_delay_secs': None, '_session_creation_timeout_secs': 7200, '_checkpoint_save_graph_def': True, '_service': None, '_cluster_spec': ClusterSpec({}), '_task_type': 'worker', '_task_id': 0, '_global_id_in_cluster': 0, '_master': '', '_evaluation_master': '', '_is_chief': True, '_num_ps_replicas': 0, '_num_worker_replicas': 1}\n",
            "I0628 13:12:23.552461 140429312939840 estimator.py:202] Using config: {'_model_dir': '../model_dir/50-epochs/efficientdet-d0-scratch-ep50-sgd', '_tf_random_seed': None, '_save_summary_steps': 100, '_save_checkpoints_steps': 1000, '_save_checkpoints_secs': None, '_session_config': allow_soft_placement: true\n",
            ", '_keep_checkpoint_max': 5, '_keep_checkpoint_every_n_hours': 10000, '_log_step_count_steps': 1000, '_train_distribute': None, '_device_fn': None, '_protocol': None, '_eval_distribute': None, '_experimental_distribute': None, '_experimental_max_worker_delay_secs': None, '_session_creation_timeout_secs': 7200, '_checkpoint_save_graph_def': True, '_service': None, '_cluster_spec': ClusterSpec({}), '_task_type': 'worker', '_task_id': 0, '_global_id_in_cluster': 0, '_master': '', '_evaluation_master': '', '_is_chief': True, '_num_ps_replicas': 0, '_num_worker_replicas': 1}\n",
            "INFO:tensorflow:Waiting for new checkpoint at ../model_dir/50-epochs/efficientdet-d0-scratch-ep50-sgd\n",
            "I0628 13:12:23.552664 140429312939840 checkpoint_utils.py:140] Waiting for new checkpoint at ../model_dir/50-epochs/efficientdet-d0-scratch-ep50-sgd\n",
            "INFO:tensorflow:Found new checkpoint at ../model_dir/50-epochs/efficientdet-d0-scratch-ep50-sgd/model.ckpt-284800\n",
            "I0628 13:12:23.553372 140429312939840 checkpoint_utils.py:149] Found new checkpoint at ../model_dir/50-epochs/efficientdet-d0-scratch-ep50-sgd/model.ckpt-284800\n",
            "I0628 13:12:23.553438 140429312939840 main.py:308] Starting to evaluate.\n",
            "INFO:tensorflow:Calling model_fn.\n",
            "I0628 13:12:23.959573 140429312939840 estimator.py:1173] Calling model_fn.\n",
            "I0628 13:12:23.959718 140429312939840 utils.py:600] use mixed precision policy name mixed_float16\n",
            "WARNING:tensorflow:From /home/iga/bachelor_thesis/colab/automl/efficientdet/utils.py:601: The name tf.keras.layers.enable_v2_dtype_behavior is deprecated. Please use tf.compat.v1.keras.layers.enable_v2_dtype_behavior instead.\n",
            "\n",
            "W0628 13:12:24.125281 140429312939840 module_wrapper.py:153] From /home/iga/bachelor_thesis/colab/automl/efficientdet/utils.py:601: The name tf.keras.layers.enable_v2_dtype_behavior is deprecated. Please use tf.compat.v1.keras.layers.enable_v2_dtype_behavior instead.\n",
            "\n",
            "2022-06-28 13:12:24.125543: I tensorflow/stream_executor/cuda/cuda_gpu_executor.cc:939] successful NUMA node read from SysFS had negative value (-1), but there must be at least one NUMA node, so returning NUMA node zero\n",
            "INFO:tensorflow:Mixed precision compatibility check (mixed_float16): OK\n",
            "Your GPU will likely run quickly with dtype policy mixed_float16 as it has compute capability of at least 7.0. Your GPU: NVIDIA GeForce GTX 1660 Ti with Max-Q Design, compute capability 7.5\n",
            "I0628 13:12:24.125722 140429312939840 device_compatibility_check.py:117] Mixed precision compatibility check (mixed_float16): OK\n",
            "Your GPU will likely run quickly with dtype policy mixed_float16 as it has compute capability of at least 7.0. Your GPU: NVIDIA GeForce GTX 1660 Ti with Max-Q Design, compute capability 7.5\n",
            "I0628 13:12:24.128733 140429312939840 efficientnet_builder.py:215] global_params= GlobalParams(batch_norm_momentum=0.99, batch_norm_epsilon=0.001, dropout_rate=0.2, data_format='channels_last', num_classes=1000, width_coefficient=1.0, depth_coefficient=1.0, depth_divisor=8, min_depth=None, survival_prob=0.0, relu_fn=functools.partial(<function activation_fn at 0x7fb7bfdb7ca0>, act_type='swish'), batch_norm=<class 'utils.BatchNormalization'>, use_se=True, local_pooling=None, condconv_num_experts=None, clip_projection_output=False, blocks_args=['r1_k3_s11_e1_i32_o16_se0.25', 'r2_k3_s22_e6_i16_o24_se0.25', 'r2_k5_s22_e6_i24_o40_se0.25', 'r3_k3_s22_e6_i40_o80_se0.25', 'r3_k5_s11_e6_i80_o112_se0.25', 'r4_k5_s22_e6_i112_o192_se0.25', 'r1_k3_s11_e6_i192_o320_se0.25'], fix_head_stem=None, grad_checkpoint=False)\n",
            "I0628 13:12:24.359107 140429312939840 efficientdet_keras.py:767] fnode 0 : {'feat_level': 6, 'inputs_offsets': [3, 4]}\n",
            "I0628 13:12:24.359865 140429312939840 efficientdet_keras.py:767] fnode 1 : {'feat_level': 5, 'inputs_offsets': [2, 5]}\n",
            "I0628 13:12:24.360427 140429312939840 efficientdet_keras.py:767] fnode 2 : {'feat_level': 4, 'inputs_offsets': [1, 6]}\n",
            "I0628 13:12:24.360942 140429312939840 efficientdet_keras.py:767] fnode 3 : {'feat_level': 3, 'inputs_offsets': [0, 7]}\n",
            "I0628 13:12:24.361448 140429312939840 efficientdet_keras.py:767] fnode 4 : {'feat_level': 4, 'inputs_offsets': [1, 7, 8]}\n",
            "I0628 13:12:24.361963 140429312939840 efficientdet_keras.py:767] fnode 5 : {'feat_level': 5, 'inputs_offsets': [2, 6, 9]}\n",
            "I0628 13:12:24.362468 140429312939840 efficientdet_keras.py:767] fnode 6 : {'feat_level': 6, 'inputs_offsets': [3, 5, 10]}\n",
            "I0628 13:12:24.363422 140429312939840 efficientdet_keras.py:767] fnode 7 : {'feat_level': 7, 'inputs_offsets': [4, 11]}\n",
            "I0628 13:12:24.364289 140429312939840 efficientdet_keras.py:767] fnode 0 : {'feat_level': 6, 'inputs_offsets': [3, 4]}\n",
            "I0628 13:12:24.364799 140429312939840 efficientdet_keras.py:767] fnode 1 : {'feat_level': 5, 'inputs_offsets': [2, 5]}\n",
            "I0628 13:12:24.365350 140429312939840 efficientdet_keras.py:767] fnode 2 : {'feat_level': 4, 'inputs_offsets': [1, 6]}\n",
            "I0628 13:12:24.366001 140429312939840 efficientdet_keras.py:767] fnode 3 : {'feat_level': 3, 'inputs_offsets': [0, 7]}\n",
            "I0628 13:12:24.366883 140429312939840 efficientdet_keras.py:767] fnode 4 : {'feat_level': 4, 'inputs_offsets': [1, 7, 8]}\n",
            "I0628 13:12:24.367451 140429312939840 efficientdet_keras.py:767] fnode 5 : {'feat_level': 5, 'inputs_offsets': [2, 6, 9]}\n",
            "I0628 13:12:24.368128 140429312939840 efficientdet_keras.py:767] fnode 6 : {'feat_level': 6, 'inputs_offsets': [3, 5, 10]}\n",
            "I0628 13:12:24.368667 140429312939840 efficientdet_keras.py:767] fnode 7 : {'feat_level': 7, 'inputs_offsets': [4, 11]}\n",
            "I0628 13:12:24.369481 140429312939840 efficientdet_keras.py:767] fnode 0 : {'feat_level': 6, 'inputs_offsets': [3, 4]}\n",
            "I0628 13:12:24.369996 140429312939840 efficientdet_keras.py:767] fnode 1 : {'feat_level': 5, 'inputs_offsets': [2, 5]}\n",
            "I0628 13:12:24.370509 140429312939840 efficientdet_keras.py:767] fnode 2 : {'feat_level': 4, 'inputs_offsets': [1, 6]}\n",
            "I0628 13:12:24.371066 140429312939840 efficientdet_keras.py:767] fnode 3 : {'feat_level': 3, 'inputs_offsets': [0, 7]}\n",
            "I0628 13:12:24.371796 140429312939840 efficientdet_keras.py:767] fnode 4 : {'feat_level': 4, 'inputs_offsets': [1, 7, 8]}\n",
            "I0628 13:12:24.372536 140429312939840 efficientdet_keras.py:767] fnode 5 : {'feat_level': 5, 'inputs_offsets': [2, 6, 9]}\n",
            "I0628 13:12:24.373148 140429312939840 efficientdet_keras.py:767] fnode 6 : {'feat_level': 6, 'inputs_offsets': [3, 5, 10]}\n",
            "I0628 13:12:24.373827 140429312939840 efficientdet_keras.py:767] fnode 7 : {'feat_level': 7, 'inputs_offsets': [4, 11]}\n",
            "I0628 13:12:24.434716 140429312939840 efficientnet_model.py:735] Built stem stem : (1, 256, 256, 32)\n",
            "I0628 13:12:24.435087 140429312939840 efficientnet_model.py:374] Block blocks_0 input shape: (1, 256, 256, 32)\n",
            "I0628 13:12:24.452775 140429312939840 efficientnet_model.py:393] DWConv shape: (1, 256, 256, 32)\n",
            "I0628 13:12:24.472802 140429312939840 efficientnet_model.py:195] Built SE se : (1, 1, 1, 32)\n",
            "I0628 13:12:24.488943 140429312939840 efficientnet_model.py:414] Project shape: (1, 256, 256, 16)\n",
            "I0628 13:12:24.489391 140429312939840 efficientnet_model.py:374] Block blocks_1 input shape: (1, 256, 256, 16)\n",
            "I0628 13:12:24.505189 140429312939840 efficientnet_model.py:390] Expand shape: (1, 256, 256, 96)\n",
            "I0628 13:12:24.522938 140429312939840 efficientnet_model.py:393] DWConv shape: (1, 128, 128, 96)\n",
            "I0628 13:12:24.542161 140429312939840 efficientnet_model.py:195] Built SE se : (1, 1, 1, 96)\n",
            "I0628 13:12:24.558082 140429312939840 efficientnet_model.py:414] Project shape: (1, 128, 128, 24)\n",
            "I0628 13:12:24.558502 140429312939840 efficientnet_model.py:374] Block blocks_2 input shape: (1, 128, 128, 24)\n",
            "I0628 13:12:24.576611 140429312939840 efficientnet_model.py:390] Expand shape: (1, 128, 128, 144)\n",
            "I0628 13:12:24.593068 140429312939840 efficientnet_model.py:393] DWConv shape: (1, 128, 128, 144)\n",
            "I0628 13:12:24.611315 140429312939840 efficientnet_model.py:195] Built SE se : (1, 1, 1, 144)\n",
            "I0628 13:12:24.628829 140429312939840 efficientnet_model.py:414] Project shape: (1, 128, 128, 24)\n",
            "I0628 13:12:24.629395 140429312939840 efficientnet_model.py:374] Block blocks_3 input shape: (1, 128, 128, 24)\n",
            "I0628 13:12:24.645666 140429312939840 efficientnet_model.py:390] Expand shape: (1, 128, 128, 144)\n",
            "I0628 13:12:24.662343 140429312939840 efficientnet_model.py:393] DWConv shape: (1, 64, 64, 144)\n",
            "I0628 13:12:24.681459 140429312939840 efficientnet_model.py:195] Built SE se : (1, 1, 1, 144)\n",
            "I0628 13:12:24.697454 140429312939840 efficientnet_model.py:414] Project shape: (1, 64, 64, 40)\n",
            "I0628 13:12:24.697849 140429312939840 efficientnet_model.py:374] Block blocks_4 input shape: (1, 64, 64, 40)\n",
            "I0628 13:12:24.713980 140429312939840 efficientnet_model.py:390] Expand shape: (1, 64, 64, 240)\n",
            "I0628 13:12:24.732150 140429312939840 efficientnet_model.py:393] DWConv shape: (1, 64, 64, 240)\n",
            "I0628 13:12:24.751048 140429312939840 efficientnet_model.py:195] Built SE se : (1, 1, 1, 240)\n",
            "I0628 13:12:24.767329 140429312939840 efficientnet_model.py:414] Project shape: (1, 64, 64, 40)\n",
            "I0628 13:12:24.768601 140429312939840 efficientnet_model.py:374] Block blocks_5 input shape: (1, 64, 64, 40)\n",
            "I0628 13:12:24.787519 140429312939840 efficientnet_model.py:390] Expand shape: (1, 64, 64, 240)\n",
            "I0628 13:12:24.805119 140429312939840 efficientnet_model.py:393] DWConv shape: (1, 32, 32, 240)\n",
            "I0628 13:12:24.824795 140429312939840 efficientnet_model.py:195] Built SE se : (1, 1, 1, 240)\n",
            "I0628 13:12:24.841478 140429312939840 efficientnet_model.py:414] Project shape: (1, 32, 32, 80)\n",
            "I0628 13:12:24.841872 140429312939840 efficientnet_model.py:374] Block blocks_6 input shape: (1, 32, 32, 80)\n",
            "I0628 13:12:24.858894 140429312939840 efficientnet_model.py:390] Expand shape: (1, 32, 32, 480)\n",
            "I0628 13:12:24.877328 140429312939840 efficientnet_model.py:393] DWConv shape: (1, 32, 32, 480)\n",
            "I0628 13:12:24.895975 140429312939840 efficientnet_model.py:195] Built SE se : (1, 1, 1, 480)\n",
            "I0628 13:12:24.912304 140429312939840 efficientnet_model.py:414] Project shape: (1, 32, 32, 80)\n",
            "I0628 13:12:24.912723 140429312939840 efficientnet_model.py:374] Block blocks_7 input shape: (1, 32, 32, 80)\n",
            "I0628 13:12:24.931073 140429312939840 efficientnet_model.py:390] Expand shape: (1, 32, 32, 480)\n",
            "I0628 13:12:24.949330 140429312939840 efficientnet_model.py:393] DWConv shape: (1, 32, 32, 480)\n",
            "I0628 13:12:24.968755 140429312939840 efficientnet_model.py:195] Built SE se : (1, 1, 1, 480)\n",
            "I0628 13:12:24.985915 140429312939840 efficientnet_model.py:414] Project shape: (1, 32, 32, 80)\n",
            "I0628 13:12:24.986361 140429312939840 efficientnet_model.py:374] Block blocks_8 input shape: (1, 32, 32, 80)\n",
            "I0628 13:12:25.003117 140429312939840 efficientnet_model.py:390] Expand shape: (1, 32, 32, 480)\n",
            "I0628 13:12:25.020877 140429312939840 efficientnet_model.py:393] DWConv shape: (1, 32, 32, 480)\n",
            "I0628 13:12:25.041772 140429312939840 efficientnet_model.py:195] Built SE se : (1, 1, 1, 480)\n",
            "I0628 13:12:25.057596 140429312939840 efficientnet_model.py:414] Project shape: (1, 32, 32, 112)\n",
            "I0628 13:12:25.057989 140429312939840 efficientnet_model.py:374] Block blocks_9 input shape: (1, 32, 32, 112)\n",
            "I0628 13:12:25.075773 140429312939840 efficientnet_model.py:390] Expand shape: (1, 32, 32, 672)\n",
            "I0628 13:12:25.093391 140429312939840 efficientnet_model.py:393] DWConv shape: (1, 32, 32, 672)\n",
            "I0628 13:12:25.112143 140429312939840 efficientnet_model.py:195] Built SE se : (1, 1, 1, 672)\n",
            "I0628 13:12:25.129607 140429312939840 efficientnet_model.py:414] Project shape: (1, 32, 32, 112)\n",
            "I0628 13:12:25.130007 140429312939840 efficientnet_model.py:374] Block blocks_10 input shape: (1, 32, 32, 112)\n",
            "I0628 13:12:25.146775 140429312939840 efficientnet_model.py:390] Expand shape: (1, 32, 32, 672)\n",
            "I0628 13:12:25.164078 140429312939840 efficientnet_model.py:393] DWConv shape: (1, 32, 32, 672)\n",
            "I0628 13:12:25.183825 140429312939840 efficientnet_model.py:195] Built SE se : (1, 1, 1, 672)\n",
            "I0628 13:12:25.199624 140429312939840 efficientnet_model.py:414] Project shape: (1, 32, 32, 112)\n",
            "I0628 13:12:25.200124 140429312939840 efficientnet_model.py:374] Block blocks_11 input shape: (1, 32, 32, 112)\n",
            "I0628 13:12:25.216309 140429312939840 efficientnet_model.py:390] Expand shape: (1, 32, 32, 672)\n",
            "I0628 13:12:25.235573 140429312939840 efficientnet_model.py:393] DWConv shape: (1, 16, 16, 672)\n",
            "I0628 13:12:25.254154 140429312939840 efficientnet_model.py:195] Built SE se : (1, 1, 1, 672)\n",
            "I0628 13:12:25.269483 140429312939840 efficientnet_model.py:414] Project shape: (1, 16, 16, 192)\n",
            "I0628 13:12:25.269940 140429312939840 efficientnet_model.py:374] Block blocks_12 input shape: (1, 16, 16, 192)\n",
            "I0628 13:12:25.291058 140429312939840 efficientnet_model.py:390] Expand shape: (1, 16, 16, 1152)\n",
            "I0628 13:12:25.311405 140429312939840 efficientnet_model.py:393] DWConv shape: (1, 16, 16, 1152)\n",
            "I0628 13:12:25.331361 140429312939840 efficientnet_model.py:195] Built SE se : (1, 1, 1, 1152)\n",
            "I0628 13:12:25.347593 140429312939840 efficientnet_model.py:414] Project shape: (1, 16, 16, 192)\n",
            "I0628 13:12:25.348029 140429312939840 efficientnet_model.py:374] Block blocks_13 input shape: (1, 16, 16, 192)\n",
            "I0628 13:12:25.367297 140429312939840 efficientnet_model.py:390] Expand shape: (1, 16, 16, 1152)\n",
            "I0628 13:12:25.389439 140429312939840 efficientnet_model.py:393] DWConv shape: (1, 16, 16, 1152)\n",
            "I0628 13:12:25.408195 140429312939840 efficientnet_model.py:195] Built SE se : (1, 1, 1, 1152)\n",
            "I0628 13:12:25.424281 140429312939840 efficientnet_model.py:414] Project shape: (1, 16, 16, 192)\n",
            "I0628 13:12:25.424780 140429312939840 efficientnet_model.py:374] Block blocks_14 input shape: (1, 16, 16, 192)\n",
            "I0628 13:12:25.445080 140429312939840 efficientnet_model.py:390] Expand shape: (1, 16, 16, 1152)\n",
            "I0628 13:12:25.464739 140429312939840 efficientnet_model.py:393] DWConv shape: (1, 16, 16, 1152)\n",
            "I0628 13:12:25.485857 140429312939840 efficientnet_model.py:195] Built SE se : (1, 1, 1, 1152)\n",
            "I0628 13:12:25.501783 140429312939840 efficientnet_model.py:414] Project shape: (1, 16, 16, 192)\n",
            "I0628 13:12:25.502227 140429312939840 efficientnet_model.py:374] Block blocks_15 input shape: (1, 16, 16, 192)\n",
            "I0628 13:12:25.521978 140429312939840 efficientnet_model.py:390] Expand shape: (1, 16, 16, 1152)\n",
            "I0628 13:12:25.544324 140429312939840 efficientnet_model.py:393] DWConv shape: (1, 16, 16, 1152)\n",
            "I0628 13:12:25.564712 140429312939840 efficientnet_model.py:195] Built SE se : (1, 1, 1, 1152)\n",
            "I0628 13:12:25.580346 140429312939840 efficientnet_model.py:414] Project shape: (1, 16, 16, 320)\n",
            "I0628 13:12:27.436248 140429312939840 det_model_fn.py:81] LR schedule method: cosine\n",
            "I0628 13:12:27.646200 140429312939840 postprocess.py:90] use max_nms_inputs for pre-nms topk.\n",
            "I0628 13:12:27.780127 140429312939840 det_model_fn.py:476] Eval val with groudtruths None.\n",
            "INFO:tensorflow:Done calling model_fn.\n",
            "I0628 13:12:27.810843 140429312939840 estimator.py:1175] Done calling model_fn.\n",
            "INFO:tensorflow:Starting evaluation at 2022-06-28T13:12:27\n",
            "I0628 13:12:27.824038 140429312939840 evaluation.py:254] Starting evaluation at 2022-06-28T13:12:27\n",
            "INFO:tensorflow:Graph was finalized.\n",
            "I0628 13:12:28.484540 140429312939840 monitored_session.py:247] Graph was finalized.\n",
            "2022-06-28 13:12:28.484831: I tensorflow/core/platform/cpu_feature_guard.cc:151] This TensorFlow binary is optimized with oneAPI Deep Neural Network Library (oneDNN) to use the following CPU instructions in performance-critical operations:  AVX2 FMA\n",
            "To enable them in other operations, rebuild TensorFlow with the appropriate compiler flags.\n",
            "2022-06-28 13:12:28.486142: I tensorflow/stream_executor/cuda/cuda_gpu_executor.cc:939] successful NUMA node read from SysFS had negative value (-1), but there must be at least one NUMA node, so returning NUMA node zero\n",
            "2022-06-28 13:12:28.486319: I tensorflow/stream_executor/cuda/cuda_gpu_executor.cc:939] successful NUMA node read from SysFS had negative value (-1), but there must be at least one NUMA node, so returning NUMA node zero\n",
            "2022-06-28 13:12:28.486440: I tensorflow/stream_executor/cuda/cuda_gpu_executor.cc:939] successful NUMA node read from SysFS had negative value (-1), but there must be at least one NUMA node, so returning NUMA node zero\n",
            "2022-06-28 13:12:28.915618: I tensorflow/stream_executor/cuda/cuda_gpu_executor.cc:939] successful NUMA node read from SysFS had negative value (-1), but there must be at least one NUMA node, so returning NUMA node zero\n",
            "2022-06-28 13:12:28.915802: I tensorflow/stream_executor/cuda/cuda_gpu_executor.cc:939] successful NUMA node read from SysFS had negative value (-1), but there must be at least one NUMA node, so returning NUMA node zero\n",
            "2022-06-28 13:12:28.915973: I tensorflow/stream_executor/cuda/cuda_gpu_executor.cc:939] successful NUMA node read from SysFS had negative value (-1), but there must be at least one NUMA node, so returning NUMA node zero\n",
            "2022-06-28 13:12:28.916087: I tensorflow/core/common_runtime/gpu/gpu_device.cc:1525] Created device /job:localhost/replica:0/task:0/device:GPU:0 with 4402 MB memory:  -> device: 0, name: NVIDIA GeForce GTX 1660 Ti with Max-Q Design, pci bus id: 0000:01:00.0, compute capability: 7.5\n",
            "INFO:tensorflow:Restoring parameters from ../model_dir/50-epochs/efficientdet-d0-scratch-ep50-sgd/model.ckpt-284800\n",
            "I0628 13:12:28.916919 140429312939840 saver.py:1399] Restoring parameters from ../model_dir/50-epochs/efficientdet-d0-scratch-ep50-sgd/model.ckpt-284800\n",
            "INFO:tensorflow:Running local_init_op.\n",
            "I0628 13:12:31.911113 140429312939840 session_manager.py:531] Running local_init_op.\n",
            "INFO:tensorflow:Done running local_init_op.\n",
            "I0628 13:12:32.014952 140429312939840 session_manager.py:534] Done running local_init_op.\n",
            "2022-06-28 13:12:35.760936: I tensorflow/stream_executor/cuda/cuda_dnn.cc:366] Loaded cuDNN version 8300\n",
            "2022-06-28 13:12:36.279553: W tensorflow/stream_executor/gpu/asm_compiler.cc:111] *** WARNING *** You are using ptxas 10.1.243, which is older than 11.1. ptxas before 11.1 is known to miscompile XLA code, leading to incorrect results or invalid-address errors.\n",
            "\n",
            "You may not need to update to CUDA 11.1; cherry-picking the ptxas binary is often sufficient.\n",
            "2022-06-28 13:12:36.422720: I tensorflow/stream_executor/cuda/cuda_gpu_executor.cc:939] successful NUMA node read from SysFS had negative value (-1), but there must be at least one NUMA node, so returning NUMA node zero\n",
            "2022-06-28 13:12:36.422905: I tensorflow/stream_executor/cuda/cuda_gpu_executor.cc:939] successful NUMA node read from SysFS had negative value (-1), but there must be at least one NUMA node, so returning NUMA node zero\n",
            "2022-06-28 13:12:36.423026: I tensorflow/stream_executor/cuda/cuda_gpu_executor.cc:939] successful NUMA node read from SysFS had negative value (-1), but there must be at least one NUMA node, so returning NUMA node zero\n",
            "2022-06-28 13:12:36.423175: I tensorflow/stream_executor/cuda/cuda_gpu_executor.cc:939] successful NUMA node read from SysFS had negative value (-1), but there must be at least one NUMA node, so returning NUMA node zero\n",
            "2022-06-28 13:12:36.423298: I tensorflow/stream_executor/cuda/cuda_gpu_executor.cc:939] successful NUMA node read from SysFS had negative value (-1), but there must be at least one NUMA node, so returning NUMA node zero\n",
            "2022-06-28 13:12:36.423392: I tensorflow/core/common_runtime/gpu/gpu_device.cc:1525] Created device /job:localhost/replica:0/task:0/device:GPU:0 with 4402 MB memory:  -> device: 0, name: NVIDIA GeForce GTX 1660 Ti with Max-Q Design, pci bus id: 0000:01:00.0, compute capability: 7.5\n",
            "INFO:tensorflow:Evaluation [54/548]\n",
            "I0628 13:12:38.728949 140429312939840 evaluation.py:167] Evaluation [54/548]\n",
            "INFO:tensorflow:Evaluation [108/548]\n",
            "I0628 13:12:41.047010 140429312939840 evaluation.py:167] Evaluation [108/548]\n",
            "INFO:tensorflow:Evaluation [162/548]\n",
            "I0628 13:12:43.606590 140429312939840 evaluation.py:167] Evaluation [162/548]\n",
            "INFO:tensorflow:Evaluation [216/548]\n",
            "I0628 13:12:45.990488 140429312939840 evaluation.py:167] Evaluation [216/548]\n",
            "INFO:tensorflow:Evaluation [270/548]\n",
            "I0628 13:12:48.472560 140429312939840 evaluation.py:167] Evaluation [270/548]\n",
            "INFO:tensorflow:Evaluation [324/548]\n",
            "I0628 13:12:50.986708 140429312939840 evaluation.py:167] Evaluation [324/548]\n",
            "INFO:tensorflow:Evaluation [378/548]\n",
            "I0628 13:12:53.559868 140429312939840 evaluation.py:167] Evaluation [378/548]\n",
            "INFO:tensorflow:Evaluation [432/548]\n",
            "I0628 13:12:55.915009 140429312939840 evaluation.py:167] Evaluation [432/548]\n",
            "INFO:tensorflow:Evaluation [486/548]\n",
            "I0628 13:12:58.405170 140429312939840 evaluation.py:167] Evaluation [486/548]\n",
            "INFO:tensorflow:Evaluation [540/548]\n",
            "I0628 13:13:00.778879 140429312939840 evaluation.py:167] Evaluation [540/548]\n",
            "INFO:tensorflow:Evaluation [548/548]\n",
            "I0628 13:13:01.062304 140429312939840 evaluation.py:167] Evaluation [548/548]\n",
            "creating index...\n",
            "index created!\n",
            "Loading and preparing results...\n",
            "Converting ndarray to lists...\n",
            "(54800, 7)\n",
            "0/54800\n",
            "DONE (t=0.35s)\n",
            "creating index...\n",
            "index created!\n",
            "Running per image evaluation...\n",
            "Evaluate annotation type *bbox*\n",
            "DONE (t=20.94s).\n",
            "Accumulating evaluation results...\n",
            "DONE (t=0.65s).\n",
            " Average Precision  (AP) @[ IoU=0.50:0.95 | area=   all | maxDets=100 ] = 0.021\n",
            " Average Precision  (AP) @[ IoU=0.50      | area=   all | maxDets=100 ] = 0.041\n",
            " Average Precision  (AP) @[ IoU=0.75      | area=   all | maxDets=100 ] = 0.022\n",
            " Average Precision  (AP) @[ IoU=0.50:0.95 | area= small | maxDets=100 ] = 0.002\n",
            " Average Precision  (AP) @[ IoU=0.50:0.95 | area=medium | maxDets=100 ] = 0.035\n",
            " Average Precision  (AP) @[ IoU=0.50:0.95 | area= large | maxDets=100 ] = 0.116\n",
            " Average Recall     (AR) @[ IoU=0.50:0.95 | area=   all | maxDets=  1 ] = 0.018\n",
            " Average Recall     (AR) @[ IoU=0.50:0.95 | area=   all | maxDets= 10 ] = 0.045\n",
            " Average Recall     (AR) @[ IoU=0.50:0.95 | area=   all | maxDets=100 ] = 0.056\n",
            " Average Recall     (AR) @[ IoU=0.50:0.95 | area= small | maxDets=100 ] = 0.011\n",
            " Average Recall     (AR) @[ IoU=0.50:0.95 | area=medium | maxDets=100 ] = 0.086\n",
            " Average Recall     (AR) @[ IoU=0.50:0.95 | area= large | maxDets=100 ] = 0.224\n",
            "INFO:tensorflow:Inference Time : 55.50865s\n",
            "I0628 13:13:23.332794 140429312939840 evaluation.py:273] Inference Time : 55.50865s\n",
            "INFO:tensorflow:Finished evaluation at 2022-06-28-13:13:23\n",
            "I0628 13:13:23.333790 140429312939840 evaluation.py:275] Finished evaluation at 2022-06-28-13:13:23\n",
            "INFO:tensorflow:Saving dict for global step 284800: AP = 0.021303076, AP50 = 0.040714655, AP75 = 0.021607969, APl = 0.115611486, APm = 0.03544449, APs = 0.0018191301, ARl = 0.22445609, ARm = 0.08594954, ARmax1 = 0.018492233, ARmax10 = 0.04509994, ARmax100 = 0.055642355, ARs = 0.011424725, box_loss = 0.008904338, cls_loss = 0.4515297, global_step = 284800, loss = 1.4317268\n",
            "I0628 13:13:23.333891 140429312939840 estimator.py:2083] Saving dict for global step 284800: AP = 0.021303076, AP50 = 0.040714655, AP75 = 0.021607969, APl = 0.115611486, APm = 0.03544449, APs = 0.0018191301, ARl = 0.22445609, ARm = 0.08594954, ARmax1 = 0.018492233, ARmax10 = 0.04509994, ARmax100 = 0.055642355, ARs = 0.011424725, box_loss = 0.008904338, cls_loss = 0.4515297, global_step = 284800, loss = 1.4317268\n",
            "INFO:tensorflow:Saving 'checkpoint_path' summary for global step 284800: ../model_dir/50-epochs/efficientdet-d0-scratch-ep50-sgd/model.ckpt-284800\n",
            "I0628 13:13:24.095447 140429312939840 estimator.py:2143] Saving 'checkpoint_path' summary for global step 284800: ../model_dir/50-epochs/efficientdet-d0-scratch-ep50-sgd/model.ckpt-284800\n",
            "I0628 13:13:24.103410 140429312939840 utils.py:444] Ckpt 0.021303076297044754 is worse than 0.022186\n",
            "I0628 13:13:24.103534 140429312939840 main.py:321] Eval finished step 284800/164400\n"
          ]
        }
      ],
      "source": [
        "!python3 main.py --mode=eval \\\n",
        "    --train_file_pattern=train/{file_pattern} \\\n",
        "    --val_file_pattern=tfrecord_visdrone/val/{file_pattern} \\\n",
        "    --model_name={MODEL} \\\n",
        "    --model_dir=../model_dir/50-epochs/{MODEL}-scratch-ep50-sgd\\\n",
        "    --backbone_ckpt={backbone_name} \\\n",
        "    --train_batch_size=1 \\\n",
        "    --eval_batch_size=1 --eval_samples=548  \\\n",
        "    --num_examples_per_epoch=548    \\\n",
        "    --hparams=\"num_classes=10,moving_average_decay=0,mixed_precision=true,max_instances_per_image={images_per_epoch+1},optimizer='sgd' \""
      ]
    },
    {
      "cell_type": "markdown",
      "metadata": {},
      "source": [
        "# 5. Start Trying "
      ]
    },
    {
      "cell_type": "code",
      "execution_count": 3,
      "metadata": {},
      "outputs": [
        {
          "data": {
            "text/plain": [
              "'efficientdet-d0'"
            ]
          },
          "execution_count": 3,
          "metadata": {},
          "output_type": "execute_result"
        }
      ],
      "source": [
        "MODEL"
      ]
    },
    {
      "cell_type": "code",
      "execution_count": 5,
      "metadata": {},
      "outputs": [
        {
          "name": "stdout",
          "output_type": "stream",
          "text": [
            "2022-06-13 09:59:57.437539: I tensorflow/stream_executor/cuda/cuda_gpu_executor.cc:939] successful NUMA node read from SysFS had negative value (-1), but there must be at least one NUMA node, so returning NUMA node zero\n",
            "2022-06-13 09:59:57.465502: I tensorflow/stream_executor/cuda/cuda_gpu_executor.cc:939] successful NUMA node read from SysFS had negative value (-1), but there must be at least one NUMA node, so returning NUMA node zero\n",
            "2022-06-13 09:59:57.465676: I tensorflow/stream_executor/cuda/cuda_gpu_executor.cc:939] successful NUMA node read from SysFS had negative value (-1), but there must be at least one NUMA node, so returning NUMA node zero\n",
            "2022-06-13 09:59:57.466716: I tensorflow/core/platform/cpu_feature_guard.cc:151] This TensorFlow binary is optimized with oneAPI Deep Neural Network Library (oneDNN) to use the following CPU instructions in performance-critical operations:  AVX2 FMA\n",
            "To enable them in other operations, rebuild TensorFlow with the appropriate compiler flags.\n",
            "2022-06-13 09:59:57.467254: I tensorflow/stream_executor/cuda/cuda_gpu_executor.cc:939] successful NUMA node read from SysFS had negative value (-1), but there must be at least one NUMA node, so returning NUMA node zero\n",
            "2022-06-13 09:59:57.467388: I tensorflow/stream_executor/cuda/cuda_gpu_executor.cc:939] successful NUMA node read from SysFS had negative value (-1), but there must be at least one NUMA node, so returning NUMA node zero\n",
            "2022-06-13 09:59:57.467511: I tensorflow/stream_executor/cuda/cuda_gpu_executor.cc:939] successful NUMA node read from SysFS had negative value (-1), but there must be at least one NUMA node, so returning NUMA node zero\n",
            "2022-06-13 09:59:57.891030: I tensorflow/stream_executor/cuda/cuda_gpu_executor.cc:939] successful NUMA node read from SysFS had negative value (-1), but there must be at least one NUMA node, so returning NUMA node zero\n",
            "2022-06-13 09:59:57.891202: I tensorflow/stream_executor/cuda/cuda_gpu_executor.cc:939] successful NUMA node read from SysFS had negative value (-1), but there must be at least one NUMA node, so returning NUMA node zero\n",
            "2022-06-13 09:59:57.891326: I tensorflow/stream_executor/cuda/cuda_gpu_executor.cc:939] successful NUMA node read from SysFS had negative value (-1), but there must be at least one NUMA node, so returning NUMA node zero\n",
            "2022-06-13 09:59:57.891442: I tensorflow/core/common_runtime/gpu/gpu_device.cc:1525] Created device /job:localhost/replica:0/task:0/device:GPU:0 with 4372 MB memory:  -> device: 0, name: NVIDIA GeForce GTX 1660 Ti with Max-Q Design, pci bus id: 0000:01:00.0, compute capability: 7.5\n",
            "WARNING:tensorflow:From /home/iga/bachelor_thesis/colab/automl/efficientdet/utils.py:601: The name tf.keras.layers.enable_v2_dtype_behavior is deprecated. Please use tf.compat.v1.keras.layers.enable_v2_dtype_behavior instead.\n",
            "\n",
            "W0613 09:59:58.110311 139951660930880 module_wrapper.py:153] From /home/iga/bachelor_thesis/colab/automl/efficientdet/utils.py:601: The name tf.keras.layers.enable_v2_dtype_behavior is deprecated. Please use tf.compat.v1.keras.layers.enable_v2_dtype_behavior instead.\n",
            "\n",
            "2022-06-13 09:59:58.110673: I tensorflow/stream_executor/cuda/cuda_gpu_executor.cc:939] successful NUMA node read from SysFS had negative value (-1), but there must be at least one NUMA node, so returning NUMA node zero\n",
            "WARNING:tensorflow:From /home/iga/.local/lib/python3.8/site-packages/tensorflow/python/saved_model/signature_def_utils_impl.py:207: build_tensor_info (from tensorflow.python.saved_model.utils_impl) is deprecated and will be removed in a future version.\n",
            "Instructions for updating:\n",
            "This function will only be available through the v1 compatibility library as tf.compat.v1.saved_model.utils.build_tensor_info or tf.compat.v1.saved_model.build_tensor_info.\n",
            "W0613 10:00:06.749147 139951660930880 deprecation.py:341] From /home/iga/.local/lib/python3.8/site-packages/tensorflow/python/saved_model/signature_def_utils_impl.py:207: build_tensor_info (from tensorflow.python.saved_model.utils_impl) is deprecated and will be removed in a future version.\n",
            "Instructions for updating:\n",
            "This function will only be available through the v1 compatibility library as tf.compat.v1.saved_model.utils.build_tensor_info or tf.compat.v1.saved_model.build_tensor_info.\n",
            "WARNING:tensorflow:From /home/iga/bachelor_thesis/colab/automl/efficientdet/inference.py:581: convert_variables_to_constants (from tensorflow.python.framework.graph_util_impl) is deprecated and will be removed in a future version.\n",
            "Instructions for updating:\n",
            "Use `tf.compat.v1.graph_util.convert_variables_to_constants`\n",
            "W0613 10:00:09.803960 139951660930880 deprecation.py:341] From /home/iga/bachelor_thesis/colab/automl/efficientdet/inference.py:581: convert_variables_to_constants (from tensorflow.python.framework.graph_util_impl) is deprecated and will be removed in a future version.\n",
            "Instructions for updating:\n",
            "Use `tf.compat.v1.graph_util.convert_variables_to_constants`\n",
            "WARNING:tensorflow:From /home/iga/.local/lib/python3.8/site-packages/tensorflow/python/framework/convert_to_constants.py:929: extract_sub_graph (from tensorflow.python.framework.graph_util_impl) is deprecated and will be removed in a future version.\n",
            "Instructions for updating:\n",
            "Use `tf.compat.v1.graph_util.extract_sub_graph`\n",
            "W0613 10:00:09.804165 139951660930880 deprecation.py:341] From /home/iga/.local/lib/python3.8/site-packages/tensorflow/python/framework/convert_to_constants.py:929: extract_sub_graph (from tensorflow.python.framework.graph_util_impl) is deprecated and will be removed in a future version.\n",
            "Instructions for updating:\n",
            "Use `tf.compat.v1.graph_util.extract_sub_graph`\n"
          ]
        }
      ],
      "source": [
        "# first export a saved model.\n",
        "ckpt_path =  '../model_dir/efficientdet-d0-maxpool-ep50-adam' \n",
        "saved_model_dir='/home/iga/bachelor_thesis/colab/automl/saved_own_model_new/50_epochs_maxpool_adam'\n",
        "#!rm -rf {saved_model_dir} \n",
        "#--model_name={MODEL} --model_name=efficientdet-d0-scratch-epo50 \n",
        "!python3 model_inspect.py --runmode=saved_model --model_name={MODEL} \\\n",
        "  --ckpt_path={ckpt_path} --saved_model_dir={saved_model_dir} --hparams=\"num_classes=10,moving_average_decay=0,mixed_precision=true\""
      ]
    },
    {
      "cell_type": "code",
      "execution_count": 7,
      "metadata": {},
      "outputs": [
        {
          "data": {
            "text/plain": [
              "200"
            ]
          },
          "execution_count": 7,
          "metadata": {},
          "output_type": "execute_result"
        }
      ],
      "source": [
        "max_boxes_to_draw"
      ]
    },
    {
      "cell_type": "code",
      "execution_count": 9,
      "metadata": {},
      "outputs": [
        {
          "name": "stdout",
          "output_type": "stream",
          "text": [
            "mkdir: cannot create directory ‘serve_fixed_image_out/50_epoch_maxpool’: File exists\n",
            "2022-06-13 10:07:49.276943: I tensorflow/stream_executor/cuda/cuda_gpu_executor.cc:939] successful NUMA node read from SysFS had negative value (-1), but there must be at least one NUMA node, so returning NUMA node zero\n",
            "2022-06-13 10:07:49.303666: I tensorflow/stream_executor/cuda/cuda_gpu_executor.cc:939] successful NUMA node read from SysFS had negative value (-1), but there must be at least one NUMA node, so returning NUMA node zero\n",
            "2022-06-13 10:07:49.304096: I tensorflow/stream_executor/cuda/cuda_gpu_executor.cc:939] successful NUMA node read from SysFS had negative value (-1), but there must be at least one NUMA node, so returning NUMA node zero\n",
            "2022-06-13 10:07:49.305063: I tensorflow/core/platform/cpu_feature_guard.cc:151] This TensorFlow binary is optimized with oneAPI Deep Neural Network Library (oneDNN) to use the following CPU instructions in performance-critical operations:  AVX2 FMA\n",
            "To enable them in other operations, rebuild TensorFlow with the appropriate compiler flags.\n",
            "2022-06-13 10:07:49.305962: I tensorflow/stream_executor/cuda/cuda_gpu_executor.cc:939] successful NUMA node read from SysFS had negative value (-1), but there must be at least one NUMA node, so returning NUMA node zero\n",
            "2022-06-13 10:07:49.306155: I tensorflow/stream_executor/cuda/cuda_gpu_executor.cc:939] successful NUMA node read from SysFS had negative value (-1), but there must be at least one NUMA node, so returning NUMA node zero\n",
            "2022-06-13 10:07:49.306277: I tensorflow/stream_executor/cuda/cuda_gpu_executor.cc:939] successful NUMA node read from SysFS had negative value (-1), but there must be at least one NUMA node, so returning NUMA node zero\n",
            "2022-06-13 10:07:49.734543: I tensorflow/stream_executor/cuda/cuda_gpu_executor.cc:939] successful NUMA node read from SysFS had negative value (-1), but there must be at least one NUMA node, so returning NUMA node zero\n",
            "2022-06-13 10:07:49.734720: I tensorflow/stream_executor/cuda/cuda_gpu_executor.cc:939] successful NUMA node read from SysFS had negative value (-1), but there must be at least one NUMA node, so returning NUMA node zero\n",
            "2022-06-13 10:07:49.734846: I tensorflow/stream_executor/cuda/cuda_gpu_executor.cc:939] successful NUMA node read from SysFS had negative value (-1), but there must be at least one NUMA node, so returning NUMA node zero\n",
            "2022-06-13 10:07:49.734956: I tensorflow/core/common_runtime/gpu/gpu_device.cc:1525] Created device /job:localhost/replica:0/task:0/device:GPU:0 with 4401 MB memory:  -> device: 0, name: NVIDIA GeForce GTX 1660 Ti with Max-Q Design, pci bus id: 0000:01:00.0, compute capability: 7.5\n",
            "WARNING:tensorflow:From /home/iga/bachelor_thesis/colab/automl/efficientdet/inference.py:569: load (from tensorflow.python.saved_model.loader_impl) is deprecated and will be removed in a future version.\n",
            "Instructions for updating:\n",
            "This function will only be available through the v1 compatibility library as tf.compat.v1.saved_model.loader.load or tf.compat.v1.saved_model.load. There will be a new function for importing SavedModels in Tensorflow 2.0.\n",
            "W0613 10:07:49.735767 140214552880960 deprecation.py:341] From /home/iga/bachelor_thesis/colab/automl/efficientdet/inference.py:569: load (from tensorflow.python.saved_model.loader_impl) is deprecated and will be removed in a future version.\n",
            "Instructions for updating:\n",
            "This function will only be available through the v1 compatibility library as tf.compat.v1.saved_model.loader.load or tf.compat.v1.saved_model.load. There will be a new function for importing SavedModels in Tensorflow 2.0.\n",
            "all_files= ['testdata/testagain.jpg']\n",
            "2022-06-13 10:07:53.264966: I tensorflow/stream_executor/cuda/cuda_dnn.cc:366] Loaded cuDNN version 8300\n",
            "2022-06-13 10:07:53.789515: W tensorflow/stream_executor/gpu/asm_compiler.cc:111] *** WARNING *** You are using ptxas 10.1.243, which is older than 11.1. ptxas before 11.1 is known to miscompile XLA code, leading to incorrect results or invalid-address errors.\n",
            "\n",
            "You may not need to update to CUDA 11.1; cherry-picking the ptxas binary is often sufficient.\n",
            "writing file to serve_fixed_image_out/50_epoch_maxpool/0.jpg\n"
          ]
        }
      ],
      "source": [
        "# Then run saved_model_infer to do inference.\n",
        "# Notably: batch_size, image_size must be the same as when it is exported.\n",
        "serve_image_out = 'serve_fixed_image_out/50_epoch_maxpool'\n",
        "!mkdir {serve_image_out}\n",
        "\n",
        "!python3 model_inspect.py --runmode=saved_model_infer \\\n",
        "  --saved_model_dir={saved_model_dir} \\\n",
        "  --model_name={MODEL}  --input_image=testdata/testagain.jpg  \\\n",
        "  --output_image_dir={serve_image_out} \\\n",
        "  --min_score_thresh={min_score_thresh}  --max_boxes_to_draw={max_boxes_to_draw} --hparams=\"num_classes=10,moving_average_decay=0,mixed_precision=true\""
      ]
    },
    {
      "cell_type": "code",
      "execution_count": 24,
      "metadata": {},
      "outputs": [
        {
          "ename": "FileNotFoundError",
          "evalue": "No such file or directory: 'serve_fixed_image_out/testagain.jpg'",
          "output_type": "error",
          "traceback": [
            "\u001b[0;31m---------------------------------------------------------------------------\u001b[0m",
            "\u001b[0;31mTypeError\u001b[0m                                 Traceback (most recent call last)",
            "\u001b[0;32m~/.local/lib/python3.8/site-packages/IPython/core/display.py\u001b[0m in \u001b[0;36m_data_and_metadata\u001b[0;34m(self, always_both)\u001b[0m\n\u001b[1;32m   1299\u001b[0m         \u001b[0;32mtry\u001b[0m\u001b[0;34m:\u001b[0m\u001b[0;34m\u001b[0m\u001b[0;34m\u001b[0m\u001b[0m\n\u001b[0;32m-> 1300\u001b[0;31m             \u001b[0mb64_data\u001b[0m \u001b[0;34m=\u001b[0m \u001b[0mb2a_base64\u001b[0m\u001b[0;34m(\u001b[0m\u001b[0mself\u001b[0m\u001b[0;34m.\u001b[0m\u001b[0mdata\u001b[0m\u001b[0;34m)\u001b[0m\u001b[0;34m.\u001b[0m\u001b[0mdecode\u001b[0m\u001b[0;34m(\u001b[0m\u001b[0;34m'ascii'\u001b[0m\u001b[0;34m)\u001b[0m\u001b[0;34m\u001b[0m\u001b[0;34m\u001b[0m\u001b[0m\n\u001b[0m\u001b[1;32m   1301\u001b[0m         \u001b[0;32mexcept\u001b[0m \u001b[0mTypeError\u001b[0m\u001b[0;34m:\u001b[0m\u001b[0;34m\u001b[0m\u001b[0;34m\u001b[0m\u001b[0m\n",
            "\u001b[0;31mTypeError\u001b[0m: a bytes-like object is required, not 'str'",
            "\nDuring handling of the above exception, another exception occurred:\n",
            "\u001b[0;31mFileNotFoundError\u001b[0m                         Traceback (most recent call last)",
            "\u001b[0;32m~/.local/lib/python3.8/site-packages/IPython/core/formatters.py\u001b[0m in \u001b[0;36m__call__\u001b[0;34m(self, obj, include, exclude)\u001b[0m\n\u001b[1;32m    968\u001b[0m \u001b[0;34m\u001b[0m\u001b[0m\n\u001b[1;32m    969\u001b[0m             \u001b[0;32mif\u001b[0m \u001b[0mmethod\u001b[0m \u001b[0;32mis\u001b[0m \u001b[0;32mnot\u001b[0m \u001b[0;32mNone\u001b[0m\u001b[0;34m:\u001b[0m\u001b[0;34m\u001b[0m\u001b[0;34m\u001b[0m\u001b[0m\n\u001b[0;32m--> 970\u001b[0;31m                 \u001b[0;32mreturn\u001b[0m \u001b[0mmethod\u001b[0m\u001b[0;34m(\u001b[0m\u001b[0minclude\u001b[0m\u001b[0;34m=\u001b[0m\u001b[0minclude\u001b[0m\u001b[0;34m,\u001b[0m \u001b[0mexclude\u001b[0m\u001b[0;34m=\u001b[0m\u001b[0mexclude\u001b[0m\u001b[0;34m)\u001b[0m\u001b[0;34m\u001b[0m\u001b[0;34m\u001b[0m\u001b[0m\n\u001b[0m\u001b[1;32m    971\u001b[0m             \u001b[0;32mreturn\u001b[0m \u001b[0;32mNone\u001b[0m\u001b[0;34m\u001b[0m\u001b[0;34m\u001b[0m\u001b[0m\n\u001b[1;32m    972\u001b[0m         \u001b[0;32melse\u001b[0m\u001b[0;34m:\u001b[0m\u001b[0;34m\u001b[0m\u001b[0;34m\u001b[0m\u001b[0m\n",
            "\u001b[0;32m~/.local/lib/python3.8/site-packages/IPython/core/display.py\u001b[0m in \u001b[0;36m_repr_mimebundle_\u001b[0;34m(self, include, exclude)\u001b[0m\n\u001b[1;32m   1288\u001b[0m         \u001b[0;32mif\u001b[0m \u001b[0mself\u001b[0m\u001b[0;34m.\u001b[0m\u001b[0membed\u001b[0m\u001b[0;34m:\u001b[0m\u001b[0;34m\u001b[0m\u001b[0;34m\u001b[0m\u001b[0m\n\u001b[1;32m   1289\u001b[0m             \u001b[0mmimetype\u001b[0m \u001b[0;34m=\u001b[0m \u001b[0mself\u001b[0m\u001b[0;34m.\u001b[0m\u001b[0m_mimetype\u001b[0m\u001b[0;34m\u001b[0m\u001b[0;34m\u001b[0m\u001b[0m\n\u001b[0;32m-> 1290\u001b[0;31m             \u001b[0mdata\u001b[0m\u001b[0;34m,\u001b[0m \u001b[0mmetadata\u001b[0m \u001b[0;34m=\u001b[0m \u001b[0mself\u001b[0m\u001b[0;34m.\u001b[0m\u001b[0m_data_and_metadata\u001b[0m\u001b[0;34m(\u001b[0m\u001b[0malways_both\u001b[0m\u001b[0;34m=\u001b[0m\u001b[0;32mTrue\u001b[0m\u001b[0;34m)\u001b[0m\u001b[0;34m\u001b[0m\u001b[0;34m\u001b[0m\u001b[0m\n\u001b[0m\u001b[1;32m   1291\u001b[0m             \u001b[0;32mif\u001b[0m \u001b[0mmetadata\u001b[0m\u001b[0;34m:\u001b[0m\u001b[0;34m\u001b[0m\u001b[0;34m\u001b[0m\u001b[0m\n\u001b[1;32m   1292\u001b[0m                 \u001b[0mmetadata\u001b[0m \u001b[0;34m=\u001b[0m \u001b[0;34m{\u001b[0m\u001b[0mmimetype\u001b[0m\u001b[0;34m:\u001b[0m \u001b[0mmetadata\u001b[0m\u001b[0;34m}\u001b[0m\u001b[0;34m\u001b[0m\u001b[0;34m\u001b[0m\u001b[0m\n",
            "\u001b[0;32m~/.local/lib/python3.8/site-packages/IPython/core/display.py\u001b[0m in \u001b[0;36m_data_and_metadata\u001b[0;34m(self, always_both)\u001b[0m\n\u001b[1;32m   1300\u001b[0m             \u001b[0mb64_data\u001b[0m \u001b[0;34m=\u001b[0m \u001b[0mb2a_base64\u001b[0m\u001b[0;34m(\u001b[0m\u001b[0mself\u001b[0m\u001b[0;34m.\u001b[0m\u001b[0mdata\u001b[0m\u001b[0;34m)\u001b[0m\u001b[0;34m.\u001b[0m\u001b[0mdecode\u001b[0m\u001b[0;34m(\u001b[0m\u001b[0;34m'ascii'\u001b[0m\u001b[0;34m)\u001b[0m\u001b[0;34m\u001b[0m\u001b[0;34m\u001b[0m\u001b[0m\n\u001b[1;32m   1301\u001b[0m         \u001b[0;32mexcept\u001b[0m \u001b[0mTypeError\u001b[0m\u001b[0;34m:\u001b[0m\u001b[0;34m\u001b[0m\u001b[0;34m\u001b[0m\u001b[0m\n\u001b[0;32m-> 1302\u001b[0;31m             raise FileNotFoundError(\n\u001b[0m\u001b[1;32m   1303\u001b[0m                 \"No such file or directory: '%s'\" % (self.data))\n\u001b[1;32m   1304\u001b[0m         \u001b[0mmd\u001b[0m \u001b[0;34m=\u001b[0m \u001b[0;34m{\u001b[0m\u001b[0;34m}\u001b[0m\u001b[0;34m\u001b[0m\u001b[0;34m\u001b[0m\u001b[0m\n",
            "\u001b[0;31mFileNotFoundError\u001b[0m: No such file or directory: 'serve_fixed_image_out/testagain.jpg'"
          ]
        },
        {
          "ename": "FileNotFoundError",
          "evalue": "No such file or directory: 'serve_fixed_image_out/testagain.jpg'",
          "output_type": "error",
          "traceback": [
            "\u001b[0;31m---------------------------------------------------------------------------\u001b[0m",
            "\u001b[0;31mTypeError\u001b[0m                                 Traceback (most recent call last)",
            "\u001b[0;32m~/.local/lib/python3.8/site-packages/IPython/core/display.py\u001b[0m in \u001b[0;36m_data_and_metadata\u001b[0;34m(self, always_both)\u001b[0m\n\u001b[1;32m   1299\u001b[0m         \u001b[0;32mtry\u001b[0m\u001b[0;34m:\u001b[0m\u001b[0;34m\u001b[0m\u001b[0;34m\u001b[0m\u001b[0m\n\u001b[0;32m-> 1300\u001b[0;31m             \u001b[0mb64_data\u001b[0m \u001b[0;34m=\u001b[0m \u001b[0mb2a_base64\u001b[0m\u001b[0;34m(\u001b[0m\u001b[0mself\u001b[0m\u001b[0;34m.\u001b[0m\u001b[0mdata\u001b[0m\u001b[0;34m)\u001b[0m\u001b[0;34m.\u001b[0m\u001b[0mdecode\u001b[0m\u001b[0;34m(\u001b[0m\u001b[0;34m'ascii'\u001b[0m\u001b[0;34m)\u001b[0m\u001b[0;34m\u001b[0m\u001b[0;34m\u001b[0m\u001b[0m\n\u001b[0m\u001b[1;32m   1301\u001b[0m         \u001b[0;32mexcept\u001b[0m \u001b[0mTypeError\u001b[0m\u001b[0;34m:\u001b[0m\u001b[0;34m\u001b[0m\u001b[0;34m\u001b[0m\u001b[0m\n",
            "\u001b[0;31mTypeError\u001b[0m: a bytes-like object is required, not 'str'",
            "\nDuring handling of the above exception, another exception occurred:\n",
            "\u001b[0;31mFileNotFoundError\u001b[0m                         Traceback (most recent call last)",
            "\u001b[0;32m~/.local/lib/python3.8/site-packages/IPython/core/formatters.py\u001b[0m in \u001b[0;36m__call__\u001b[0;34m(self, obj)\u001b[0m\n\u001b[1;32m    343\u001b[0m             \u001b[0mmethod\u001b[0m \u001b[0;34m=\u001b[0m \u001b[0mget_real_method\u001b[0m\u001b[0;34m(\u001b[0m\u001b[0mobj\u001b[0m\u001b[0;34m,\u001b[0m \u001b[0mself\u001b[0m\u001b[0;34m.\u001b[0m\u001b[0mprint_method\u001b[0m\u001b[0;34m)\u001b[0m\u001b[0;34m\u001b[0m\u001b[0;34m\u001b[0m\u001b[0m\n\u001b[1;32m    344\u001b[0m             \u001b[0;32mif\u001b[0m \u001b[0mmethod\u001b[0m \u001b[0;32mis\u001b[0m \u001b[0;32mnot\u001b[0m \u001b[0;32mNone\u001b[0m\u001b[0;34m:\u001b[0m\u001b[0;34m\u001b[0m\u001b[0;34m\u001b[0m\u001b[0m\n\u001b[0;32m--> 345\u001b[0;31m                 \u001b[0;32mreturn\u001b[0m \u001b[0mmethod\u001b[0m\u001b[0;34m(\u001b[0m\u001b[0;34m)\u001b[0m\u001b[0;34m\u001b[0m\u001b[0;34m\u001b[0m\u001b[0m\n\u001b[0m\u001b[1;32m    346\u001b[0m             \u001b[0;32mreturn\u001b[0m \u001b[0;32mNone\u001b[0m\u001b[0;34m\u001b[0m\u001b[0;34m\u001b[0m\u001b[0m\n\u001b[1;32m    347\u001b[0m         \u001b[0;32melse\u001b[0m\u001b[0;34m:\u001b[0m\u001b[0;34m\u001b[0m\u001b[0;34m\u001b[0m\u001b[0m\n",
            "\u001b[0;32m~/.local/lib/python3.8/site-packages/IPython/core/display.py\u001b[0m in \u001b[0;36m_repr_png_\u001b[0;34m(self)\u001b[0m\n\u001b[1;32m   1318\u001b[0m     \u001b[0;32mdef\u001b[0m \u001b[0m_repr_png_\u001b[0m\u001b[0;34m(\u001b[0m\u001b[0mself\u001b[0m\u001b[0;34m)\u001b[0m\u001b[0;34m:\u001b[0m\u001b[0;34m\u001b[0m\u001b[0;34m\u001b[0m\u001b[0m\n\u001b[1;32m   1319\u001b[0m         \u001b[0;32mif\u001b[0m \u001b[0mself\u001b[0m\u001b[0;34m.\u001b[0m\u001b[0membed\u001b[0m \u001b[0;32mand\u001b[0m \u001b[0mself\u001b[0m\u001b[0;34m.\u001b[0m\u001b[0mformat\u001b[0m \u001b[0;34m==\u001b[0m \u001b[0mself\u001b[0m\u001b[0;34m.\u001b[0m\u001b[0m_FMT_PNG\u001b[0m\u001b[0;34m:\u001b[0m\u001b[0;34m\u001b[0m\u001b[0;34m\u001b[0m\u001b[0m\n\u001b[0;32m-> 1320\u001b[0;31m             \u001b[0;32mreturn\u001b[0m \u001b[0mself\u001b[0m\u001b[0;34m.\u001b[0m\u001b[0m_data_and_metadata\u001b[0m\u001b[0;34m(\u001b[0m\u001b[0;34m)\u001b[0m\u001b[0;34m\u001b[0m\u001b[0;34m\u001b[0m\u001b[0m\n\u001b[0m\u001b[1;32m   1321\u001b[0m \u001b[0;34m\u001b[0m\u001b[0m\n\u001b[1;32m   1322\u001b[0m     \u001b[0;32mdef\u001b[0m \u001b[0m_repr_jpeg_\u001b[0m\u001b[0;34m(\u001b[0m\u001b[0mself\u001b[0m\u001b[0;34m)\u001b[0m\u001b[0;34m:\u001b[0m\u001b[0;34m\u001b[0m\u001b[0;34m\u001b[0m\u001b[0m\n",
            "\u001b[0;32m~/.local/lib/python3.8/site-packages/IPython/core/display.py\u001b[0m in \u001b[0;36m_data_and_metadata\u001b[0;34m(self, always_both)\u001b[0m\n\u001b[1;32m   1300\u001b[0m             \u001b[0mb64_data\u001b[0m \u001b[0;34m=\u001b[0m \u001b[0mb2a_base64\u001b[0m\u001b[0;34m(\u001b[0m\u001b[0mself\u001b[0m\u001b[0;34m.\u001b[0m\u001b[0mdata\u001b[0m\u001b[0;34m)\u001b[0m\u001b[0;34m.\u001b[0m\u001b[0mdecode\u001b[0m\u001b[0;34m(\u001b[0m\u001b[0;34m'ascii'\u001b[0m\u001b[0;34m)\u001b[0m\u001b[0;34m\u001b[0m\u001b[0;34m\u001b[0m\u001b[0m\n\u001b[1;32m   1301\u001b[0m         \u001b[0;32mexcept\u001b[0m \u001b[0mTypeError\u001b[0m\u001b[0;34m:\u001b[0m\u001b[0;34m\u001b[0m\u001b[0;34m\u001b[0m\u001b[0m\n\u001b[0;32m-> 1302\u001b[0;31m             raise FileNotFoundError(\n\u001b[0m\u001b[1;32m   1303\u001b[0m                 \"No such file or directory: '%s'\" % (self.data))\n\u001b[1;32m   1304\u001b[0m         \u001b[0mmd\u001b[0m \u001b[0;34m=\u001b[0m \u001b[0;34m{\u001b[0m\u001b[0;34m}\u001b[0m\u001b[0;34m\u001b[0m\u001b[0;34m\u001b[0m\u001b[0m\n",
            "\u001b[0;31mFileNotFoundError\u001b[0m: No such file or directory: 'serve_fixed_image_out/testagain.jpg'"
          ]
        },
        {
          "data": {
            "text/plain": [
              "<IPython.core.display.Image object>"
            ]
          },
          "metadata": {},
          "output_type": "display_data"
        }
      ],
      "source": [
        "from IPython import display\n",
        "display.display(display.Image(os.path.join(serve_image_out, 'testagain.jpg')))"
      ]
    }
  ],
  "metadata": {
    "accelerator": "GPU",
    "colab": {
      "collapsed_sections": [],
      "name": "tutorial.ipynb",
      "provenance": []
    },
    "interpreter": {
      "hash": "916dbcbb3f70747c44a77c7bcd40155683ae19c65e1c03b4aa3499c5328201f1"
    },
    "kernelspec": {
      "display_name": "Python 3.8.10 64-bit",
      "language": "python",
      "name": "python3"
    },
    "language_info": {
      "codemirror_mode": {
        "name": "ipython",
        "version": 3
      },
      "file_extension": ".py",
      "mimetype": "text/x-python",
      "name": "python",
      "nbconvert_exporter": "python",
      "pygments_lexer": "ipython3",
      "version": "3.8.10"
    }
  },
  "nbformat": 4,
  "nbformat_minor": 0
}
